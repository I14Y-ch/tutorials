{
 "cells": [
  {
   "cell_type": "markdown",
   "metadata": {},
   "source": [
    "# Local data steward - API's documentation\n",
    "\n",
    "-------------------------"
   ]
  },
  {
   "cell_type": "markdown",
   "metadata": {},
   "source": [
    "# Summary of content\n",
    "\n",
    "Introduction\n",
    "\n",
    "Catalogs \n",
    "\n",
    " 1. Retrieve catalog by catalog id in RDF format\n",
    " 2. Retrieve DCAT catalog by catalog id in TTL format\n",
    "\n",
    "Concepts\n",
    "\n",
    "1. Retrieve Concept by id with the possibility to retrieve the CodeList entries\n",
    "2. Retrieve concept in JSON format by concept id\n",
    "3. Retrieve the code list entries from a concept of the type CodeList by the concept Id\n",
    "4. Retrieve the code list entries from a concept of type CodeList by the concept Id in CSV format\n",
    "5. Create a new CodeList, Date, Numeric or String concept \n",
    "6. Import concept codelist entries by concept Id in JSON format\n",
    "7.  Import concept codelist entries by concept Id in CSV format\n",
    "8. Set the publication level proposal of the concept by id\n",
    "9. Set the registration status proposal of the concept with the specified id\n",
    "10. Set the registration status of the concept with the specified id\n",
    "11. Delete all code list entries by concept id\n",
    "\n",
    "Datasets\n",
    "\n",
    "1. Create a new DCAT dataset\n",
    "\n",
    "PublicServices\n",
    "\n",
    "1. Retrieve all Public Services\n",
    "\n",
    "Specific use cases\n",
    "\n",
    "1. Use Case 1: Additions or changes in a Concept: creation of a new version\n",
    "2. Use Case 2: Additions or changes in a code list: delation of all entries and reupload of new corrected entries\n",
    "3. Use Case 3: Importing codelist values with Content-Type defined in headers"
   ]
  },
  {
   "cell_type": "markdown",
   "metadata": {},
   "source": [
    "-------------------------\n",
    "\n",
    "# Introduction "
   ]
  },
  {
   "cell_type": "markdown",
   "metadata": {},
   "source": [
    "This notebook demonstrates how to interact with the Abnhame test environment for the API. This environment allows you to test all the functionalities without affecting the live production environment. The API functionalities and how they work in the Abnhame environment are identical to those in the production environment. The only difference is the environment itself (test vs. production).\n",
    "\n",
    "To switch from testing to production after successful tests, the only change you need to make is updating the URL. The base URL for the Abnhame test environment is: https://iop-a.app.cfap02.atlantica.admin.ch/api/index.html. In production, the base URL is: https://iop.app.cfap02.atlantica.admin.ch/api/index.html (just remove the \"-a\" from the test environment URL).\n",
    "\n",
    "\n",
    "In the  first part the APIs are presented. The APIs are divided into three categories: Catalogs, Concepts, PublicServices. For each API, they will be given a description, the Endpoint URL, the method used, the parameters, the possible status codes, the use case and an example of a request with a python script. \n",
    "\n",
    "In order to run the python script it's necessary to install the HTTP client library <code> [\"requests\"](https://requests.readthedocs.io/en/latest/user/quickstart/)</code> and define the token and the headers (the token must be copied manually from I14Y web interface, it can be obtained as follows: Log in to https://input.i14y-a.admin.ch, click on the user symbol and then on “Copy access token”).\n",
    "\n",
    "In the second part some use cases are presented. "
   ]
  },
  {
   "cell_type": "code",
   "execution_count": 1,
   "metadata": {},
   "outputs": [
    {
     "name": "stdout",
     "output_type": "stream",
     "text": [
      "Requirement already satisfied: requests in c:\\program files\\python39\\lib\\site-packages (2.26.0)\n",
      "Requirement already satisfied: charset-normalizer~=2.0.0 in c:\\program files\\python39\\lib\\site-packages (from requests) (2.0.4)\n",
      "Requirement already satisfied: certifi>=2017.4.17 in c:\\program files\\python39\\lib\\site-packages (from requests) (2021.5.30)\n",
      "Requirement already satisfied: urllib3<1.27,>=1.21.1 in c:\\program files\\python39\\lib\\site-packages (from requests) (1.26.6)\n",
      "Requirement already satisfied: idna<4,>=2.5 in c:\\program files\\python39\\lib\\site-packages (from requests) (3.2)\n",
      "Note: you may need to restart the kernel to use updated packages.\n"
     ]
    }
   ],
   "source": [
    "%pip install requests"
   ]
  },
  {
   "cell_type": "code",
   "execution_count": 1,
   "metadata": {},
   "outputs": [],
   "source": [
    "#Import\n",
    "\n",
    "import requests as r \n",
    "import pandas as pd\n",
    "import json"
   ]
  },
  {
   "cell_type": "code",
   "execution_count": 2,
   "metadata": {},
   "outputs": [],
   "source": [
    "# The token must first be copied manually from I14Y\n",
    "\n",
    "token= \"\"\n",
    "headers = { 'Accept': '*/*', \n",
    "            'Authorization':  token\n",
    "        }"
   ]
  },
  {
   "cell_type": "markdown",
   "metadata": {},
   "source": [
    "-------------------------\n"
   ]
  },
  {
   "cell_type": "markdown",
   "metadata": {},
   "source": [
    "# Catalogs \n",
    "\n",
    "## 1. Retrieve catalog by catalog id in RDF format\n",
    "\n",
    "**Endpoint URL**: `/api/catalogs/{catalogId}/dcat/exports/rdf`\n",
    "\n",
    "**Method**: `GET`\n",
    "\n",
    "**Parameters**:\n",
    "\n",
    "- `catalogId` (required): The catalog id \n",
    "\n",
    "**Status Codes:**\n",
    "\n",
    "- 200 OK: The request was successful.\n",
    "- Otherwise an error message is displayed. \n",
    "\n",
    "**Use case**: The Local Data Steward needs to retrieve the catalog by catalog Id in RDF format.  \n",
    "\n",
    "**Request Example**:"
   ]
  },
  {
   "cell_type": "code",
   "execution_count": 30,
   "metadata": {},
   "outputs": [
    {
     "name": "stdout",
     "output_type": "stream",
     "text": [
      "Response: 200\n",
      "<?xml version=\"1.0\" ?>\n",
      "<!DOCTYPE RDF [\n",
      "\t<!ENTITY rdf 'http://www.w3.org/1999/02/22-rdf-syntax-ns#'>\n",
      "\t<!ENTITY rdfs 'http://www.w3.org/2000/01/rdf-schema#'>\n",
      "\t<!ENTITY xsd 'http://www.w3.org/2001/XMLSchema#'>\n",
      "\t<!ENTITY dcat 'http://www.w3.org/ns/dcat#'>\n",
      "\t<!ENTITY vcard 'http://www.w3.org/2006/vcard/ns#'>\n",
      "\t<!ENTITY dct 'http://purl.org/dc/terms/'>\n",
      "\t<!ENTITY foaf 'http://xmlns.com/foaf/0.1/'>\n",
      "\t<!ENTITY spdx 'http://spdx.org/rdf/terms#'>\n",
      "\t<!ENTITY dcatap 'http://data.europa.eu/r5r/'>\n",
      "\t<!ENTITY schema 'http://schema.org/'>\n",
      "]>\n",
      "<rdf:RDF xmlns:rdfs=\"http://www.w3.org/2000/01/rdf-schema#\" xmlns:xsd=\"http://www.w3.org/2001/XMLSchema#\" xmlns:dcat=\"http://www.w3.org/ns/dcat#\" xmlns:vcard=\"http://www.w3.org/2006/vcard/ns#\" xmlns:dct=\"http://purl.org/dc/terms/\" xmlns:foaf=\"http://xmlns.com/foaf/0.1/\" xmlns:spdx=\"http://spdx.org/rdf/terms#\" xmlns:dcatap=\"http://data.europa.eu/r5r/\" xmlns:schema=\"http://schema.org/\" xmlns:rdf=\"http://www.w3.org/1999/02/22-rdf-syntax-ns#\" xml:base=\"https://i14y.admin.ch/resources/dcat/catalogs/b201a2be-5de9-4d7d-9bea-63e719048ef8\">\n",
      "  \n",
      "  \n",
      "  <dcat:Catalog rdf:about=\"https://i14y.admin.ch/resources/dcat/catalogs/b201a2be-5de9-4d7d-9bea-63e719048ef8\">\n",
      "    \n",
      "    \n",
      "    <dct:description xml:lang=\"en\">Catalog OGD for CH_KT_FRIBOURG</dct:description>\n",
      "    \n",
      "    \n",
      "    <dct:publisher>\n",
      "      \n",
      "      \n",
      "      <foaf:Agent/>\n",
      "      \n",
      "    \n",
      "    </dct:publisher>\n",
      "    \n",
      "    \n",
      "    <dct:title xml:lang=\"de\">Opendata.swiss</dct:title>\n",
      "    \n",
      "    \n",
      "    <dct:title xml:lang=\"en\">Opendata.swiss</dct:title>\n",
      "    \n",
      "    \n",
      "    <dct:title xml:lang=\"fr\">Opendata.swiss</dct:title>\n",
      "    \n",
      "    \n",
      "    <dct:title xml:lang=\"it\">Opendata.swiss</dct:title>\n",
      "    \n",
      "    \n",
      "    <dct:title xml:lang=\"rm\">Opendata.swiss</dct:title>\n",
      "    \n",
      "    \n",
      "    <foaf:name xml:lang=\"fr\">Canton de Fribourg</foaf:name>\n",
      "    \n",
      "    \n",
      "    <foaf:name xml:lang=\"en\">Canton Fribourg</foaf:name>\n",
      "    \n",
      "    \n",
      "    <foaf:name xml:lang=\"it\">Cantoni di Friburgo</foaf:name>\n",
      "    \n",
      "    \n",
      "    <foaf:name xml:lang=\"de\">Kanton Freiburg</foaf:name>\n",
      "    \n",
      "  \n",
      "  </dcat:Catalog>\n",
      "  \n",
      "\n",
      "</rdf:RDF>\n",
      "\n"
     ]
    },
    {
     "name": "stderr",
     "output_type": "stream",
     "text": [
      "c:\\PROGRA~1\\python39\\lib\\site-packages\\urllib3\\connectionpool.py:1013: InsecureRequestWarning: Unverified HTTPS request is being made to host 'iop-partner-a.app.cfap02.atlantica.admin.ch'. Adding certificate verification is strongly advised. See: https://urllib3.readthedocs.io/en/1.26.x/advanced-usage.html#ssl-warnings\n",
      "  warnings.warn(\n"
     ]
    }
   ],
   "source": [
    "import xml.dom.minidom\n",
    "\n",
    "catalog_id = \"b201a2be-5de9-4d7d-9bea-63e719048ef8\" #Use the right catalog Id here\n",
    "url = f\"https://iop-partner-a.app.cfap02.atlantica.admin.ch/api/catalogs/{catalog_id}/dcat/exports/rdf\"\n",
    "\n",
    "response = r.get(url, headers = headers, verify = False)\n",
    "\n",
    "print(f\"Response: {response.status_code}\")\n",
    "\n",
    "\n",
    "# Print the response in a readable way\n",
    "if response.status_code == 200:\n",
    "    xml_content = xml.dom.minidom.parseString(response.content)\n",
    "    pretty_xml_as_string = xml_content.toprettyxml(indent=\"  \")  \n",
    "    print(pretty_xml_as_string) \n",
    "    \n",
    "    # If needed save the pretty-printed RDF to a file\n",
    "    \n",
    "    # with open(\"catalog_data.rdf\", \"w\", encoding=\"utf-8\") as rdf_file:\n",
    "    #    rdf_file.write(pretty_xml_as_string)\n",
    "else:\n",
    "    print(\"Failed to retrieve the data.\")\n",
    "\n",
    "# print(response.content) #prints the rdf response in one block\n",
    "    "
   ]
  },
  {
   "cell_type": "markdown",
   "metadata": {},
   "source": [
    "## 2. Retrieve DCAT catalog by catalog id in TTL format\n",
    "\n",
    "**Endpoint URL**: `/api/catalogs/{catalogId}/dcat/exports/ttl`\n",
    "\n",
    "**Method**: `GET`\n",
    "\n",
    "**Parameters**:\n",
    "- `catalogId` (required): The catalog id \n",
    "\n",
    "**Status Codes:**\n",
    "\n",
    "- 200 OK: The request was successful.\n",
    "- Otherwise an error message is displayed. \n",
    "\n",
    "**Use case**: The Local Data Steward needs to retrieve the catalog by catalog Id in TTL format.\n",
    "\n",
    "**Request Example**:"
   ]
  },
  {
   "cell_type": "code",
   "execution_count": 32,
   "metadata": {},
   "outputs": [
    {
     "name": "stdout",
     "output_type": "stream",
     "text": [
      "Response: 200\n",
      "@base <https://i14y.admin.ch/resources/dcat/catalogs/b201a2be-5de9-4d7d-9bea-63e719048ef8>.\n",
      "\n",
      "@prefix rdf: <http://www.w3.org/1999/02/22-rdf-syntax-ns#>.\n",
      "@prefix rdfs: <http://www.w3.org/2000/01/rdf-schema#>.\n",
      "@prefix xsd: <http://www.w3.org/2001/XMLSchema#>.\n",
      "@prefix dcat: <http://www.w3.org/ns/dcat#>.\n",
      "@prefix vcard: <http://www.w3.org/2006/vcard/ns#>.\n",
      "@prefix dct: <http://purl.org/dc/terms/>.\n",
      "@prefix foaf: <http://xmlns.com/foaf/0.1/>.\n",
      "@prefix spdx: <http://spdx.org/rdf/terms#>.\n",
      "@prefix dcatap: <http://data.europa.eu/r5r/>.\n",
      "@prefix schema: <http://schema.org/>.\n",
      "\n",
      "<https://i14y.admin.ch/resources/dcat/catalogs/b201a2be-5de9-4d7d-9bea-63e719048ef8> dct:description \"Catalog OGD for CH_KT_FRIBOURG\"@en;\n",
      "                                                                                     dct:publisher [a foaf:Agent];\n",
      "                                                                                     dct:title \"Opendata.swiss\"@de,\n",
      "                                                                                               \"Opendata.swiss\"@en,\n",
      "                                                                                               \"Opendata.swiss\"@fr,\n",
      "                                                                                               \"Opendata.swiss\"@it,\n",
      "                                                                                               \"Opendata.swiss\"@rm;\n",
      "                                                                                     a dcat:Catalog;\n",
      "                                                                                     foaf:name \"Kanton Freiburg\"@de,\n",
      "                                                                                               \"Canton Fribourg\"@en,\n",
      "                                                                                               \"Canton de Fribourg\"@fr,\n",
      "                                                                                               \"Cantoni di Friburgo\"@it.\n",
      "\n"
     ]
    },
    {
     "name": "stderr",
     "output_type": "stream",
     "text": [
      "c:\\PROGRA~1\\python39\\lib\\site-packages\\urllib3\\connectionpool.py:1013: InsecureRequestWarning: Unverified HTTPS request is being made to host 'iop-partner-a.app.cfap02.atlantica.admin.ch'. Adding certificate verification is strongly advised. See: https://urllib3.readthedocs.io/en/1.26.x/advanced-usage.html#ssl-warnings\n",
      "  warnings.warn(\n"
     ]
    }
   ],
   "source": [
    "catalog_id = \"b201a2be-5de9-4d7d-9bea-63e719048ef8\" #Use the right catalog id here\n",
    "url = f\"https://iop-partner-a.app.cfap02.atlantica.admin.ch/api/catalogs/{catalog_id}/dcat/exports/ttl\"\n",
    "\n",
    "response = r.get(url, headers = headers, verify = False)\n",
    "\n",
    "\n",
    "print(f\"Response: {response.status_code}\")\n",
    "\n",
    "# print(response.content) #prints the rdf response in one block\n",
    "\n",
    "# If successful, print the Turtle data in a readable way\n",
    "if response.status_code == 200:\n",
    "    ttl_content = response.content.decode(\"utf-8\")\n",
    "    print(ttl_content)\n",
    "\n",
    "    # If needed save the Turtle data to a file\n",
    "    \n",
    "    # with open(\"catalog_data.ttl\", \"w\", encoding=\"utf-8\") as ttl_file:\n",
    "    #    ttl_file.write(ttl_content)\n",
    "else:\n",
    "    print(\"Failed to retrieve the data.\")"
   ]
  },
  {
   "cell_type": "markdown",
   "metadata": {},
   "source": [
    "\n",
    "\n",
    "# Concepts"
   ]
  },
  {
   "cell_type": "markdown",
   "metadata": {},
   "source": [
    "*Note: The concept Id can be derived from the I14Y web interface in the URL of the page dedicated to the specific concept: https://input.i14y-a.admin.ch/concepts/{conceptId}, for example: https://input.i14y-a.admin.ch/concepts/08db5130-b260-1607-88a9-8e013ffb44ea*"
   ]
  },
  {
   "cell_type": "markdown",
   "metadata": {},
   "source": [
    "## 1. Retrieve Concept by id with the possibility to retrieve the CodeList entries\n",
    "\n",
    "**Endpoint URL**: `/api/concepts/{conceptId}`\n",
    "\n",
    "**Method**: `GET`\n",
    "\n",
    "**Parameters**:\n",
    "- `conceptId` (required): The concept id  \n",
    "- `includeCodeListEntries` (optional): Boolean, valid only for concepts of the type CodeList\n",
    "\n",
    "\n",
    "**Status Codes:**\n",
    "\n",
    "- 200 OK: The request was successful.\n",
    "- Otherwise an error message is displayed. \n",
    "\n",
    "**Use case**: The Local Data Steward needs to retrieve the concept by the Concept Id. \n",
    "\n",
    "**Request Example**:"
   ]
  },
  {
   "cell_type": "code",
   "execution_count": 22,
   "metadata": {},
   "outputs": [
    {
     "name": "stderr",
     "output_type": "stream",
     "text": [
      "c:\\PROGRA~1\\python39\\lib\\site-packages\\urllib3\\connectionpool.py:1013: InsecureRequestWarning: Unverified HTTPS request is being made to host 'iop-partner-a.app.cfap02.atlantica.admin.ch'. Adding certificate verification is strongly advised. See: https://urllib3.readthedocs.io/en/1.26.x/advanced-usage.html#ssl-warnings\n",
      "  warnings.warn(\n"
     ]
    },
    {
     "name": "stdout",
     "output_type": "stream",
     "text": [
      "<Response [200]>\n",
      "b'{\"data\":{\"codeListEntries\":[{\"annotations\":[],\"code\":\"007EFF\",\"name\":{\"de\":\"Cyanblau\"}},{\"annotations\":[],\"code\":\"20A040\",\"name\":{\"de\":\"Mittelgr\\xc3\\xbcn\"}},{\"annotations\":[],\"code\":\"293C42\",\"name\":{\"de\":\"Paynesgrau\"}},{\"annotations\":[],\"code\":\"704214\",\"name\":{\"de\":\"Sepia\"}},{\"annotations\":[],\"code\":\"D57453\",\"name\":{\"de\":\"Venezianischrot\"}},{\"annotations\":[],\"code\":\"DA6E00\",\"name\":{\"de\":\"Gelborange\"}},{\"annotations\":[],\"code\":\"DAA520\",\"name\":{\"de\":\"Ocker\"}},{\"annotations\":[],\"code\":\"DEB943\",\"name\":{\"de\":\"Indischgelb\"}},{\"annotations\":[],\"code\":\"FF0090\",\"name\":{\"de\":\"Purpurrot\"}},{\"annotations\":[],\"code\":\"FFD700\",\"name\":{\"de\":\"Goldgelb\"}}],\"codeListEntryValueMaxLength\":6,\"codeListEntryValueType\":\"String\",\"conceptType\":\"CodeList\",\"conformsTo\":[],\"description\":{\"de\":\"Hexadezimale Farbcode\"},\"id\":\"08db5130-b260-1607-88a9-8e013ffb44ea\",\"identifier\":\"0_DemoTier_Farbe\",\"keywords\":[],\"name\":{\"de\":\"Farbliche Erscheinung \"},\"publicationLevel\":\"Public\",\"publisher\":{\"identifier\":\"i14y-test-organisation\",\"name\":{\"de\":\"I14Y Test Organisation_de\",\"en\":\"I14Y Test Organisation_en\",\"fr\":\"I14Y Test Organisation_fr\",\"it\":\"I14Y Test Organisation_it\",\"rm\":\"I14Y Test Organisation_rm\"}},\"registrationStatus\":\"Recorded\",\"registrationStatusProposal\":\"Candidate\",\"responsibleDeputy\":{\"id\":\"08db4b0d-c1ae-1688-88c1-9e9c3f179557\",\"identifier\":\"cornelia.neubacherkessler@bfs.admin.ch\",\"name\":\"Neubacher Kessler Cornelia BFS\",\"firstName\":\"\",\"lastName\":\"\"},\"responsiblePerson\":{\"id\":\"08da9646-6648-c028-8069-c443ee0b59f9\",\"identifier\":\"corinne.straub@bfs.admin.ch\",\"name\":\"Straub Corinne BFS\",\"firstName\":\"\",\"lastName\":\"\"},\"themes\":[],\"validFrom\":\"2023-05-08\",\"version\":\"1.0.0\"}}'\n"
     ]
    }
   ],
   "source": [
    "#Including code list entries \n",
    "\n",
    "url= 'https://iop-partner-a.app.cfap02.atlantica.admin.ch/api/concepts/'\n",
    "\n",
    "concept_id = '08db5130-b260-1607-88a9-8e013ffb44ea' #state the right concept id here \n",
    "\n",
    "params = {'includeCodeListEntries': 'True'}\n",
    "\n",
    "response = r.get(url + concept_id, headers = headers, params=params, verify = False)\n",
    "\n",
    "print(response)\n",
    "\n",
    "print(f\"Response: {response.status_code}\")\n",
    "\n",
    "# If you need to save the JSON to a file\n",
    "\n",
    "# json_content = response.json()\n",
    "# with open(\"concept_data.json\", \"w\") as json_file:\n",
    "#        json.dump(json_content, json_file, indent=4)  # write the JSON with indentation for readability"
   ]
  },
  {
   "cell_type": "code",
   "execution_count": 7,
   "metadata": {},
   "outputs": [
    {
     "name": "stderr",
     "output_type": "stream",
     "text": [
      "c:\\PROGRA~1\\python39\\lib\\site-packages\\urllib3\\connectionpool.py:1013: InsecureRequestWarning: Unverified HTTPS request is being made to host 'iop-partner-a.app.cfap02.atlantica.admin.ch'. Adding certificate verification is strongly advised. See: https://urllib3.readthedocs.io/en/1.26.x/advanced-usage.html#ssl-warnings\n",
      "  warnings.warn(\n"
     ]
    },
    {
     "name": "stdout",
     "output_type": "stream",
     "text": [
      "<Response [200]>\n",
      "Response: 200\n"
     ]
    }
   ],
   "source": [
    "#Excluding code list entries \n",
    "\n",
    "url= 'https://iop-partner-a.app.cfap02.atlantica.admin.ch/api/concepts/'\n",
    "\n",
    "concept_id = '08db5130-b260-1607-88a9-8e013ffb44ea' #state the right concept id here \n",
    "\n",
    "params = {'includeCodeListEntries': 'False'}\n",
    "\n",
    "response = r.get(url + concept_id, headers = headers, params=params, verify = False)\n",
    "\n",
    "print(response)\n",
    "\n",
    "print(f\"Response: {response.status_code}\")"
   ]
  },
  {
   "cell_type": "code",
   "execution_count": 6,
   "metadata": {},
   "outputs": [
    {
     "name": "stderr",
     "output_type": "stream",
     "text": [
      "c:\\PROGRA~1\\python39\\lib\\site-packages\\urllib3\\connectionpool.py:1013: InsecureRequestWarning: Unverified HTTPS request is being made to host 'iop-partner-a.app.cfap02.atlantica.admin.ch'. Adding certificate verification is strongly advised. See: https://urllib3.readthedocs.io/en/1.26.x/advanced-usage.html#ssl-warnings\n",
      "  warnings.warn(\n"
     ]
    },
    {
     "name": "stdout",
     "output_type": "stream",
     "text": [
      "Code: 007EFF, Name: Cyanblau\n",
      "Code: 20A040, Name: Mittelgrün\n",
      "Code: 293C42, Name: Paynesgrau\n",
      "Code: 704214, Name: Sepia\n",
      "Code: D57453, Name: Venezianischrot\n",
      "Code: DA6E00, Name: Gelborange\n",
      "Code: DAA520, Name: Ocker\n",
      "Code: DEB943, Name: Indischgelb\n",
      "Code: FF0090, Name: Purpurrot\n",
      "Code: FFD700, Name: Goldgelb\n"
     ]
    }
   ],
   "source": [
    "#Example where the result prints only the code value and the name of each entry\n",
    "\n",
    "url = 'https://iop-partner-a.app.cfap02.atlantica.admin.ch/api/concepts/'\n",
    "concept_id = '08db5130-b260-1607-88a9-8e013ffb44ea' #state the right concept id here \n",
    "params = {'includeCodeListEntries': 'True'} \n",
    "\n",
    "response = r.get(url + concept_id, headers=headers, params=params, verify=False)\n",
    "\n",
    "if response.status_code == 200:\n",
    "    data = json.loads(response.content)\n",
    "    \n",
    "    # Extract the codeListEntries\n",
    "    code_list_entries = data['data'].get('codeListEntries', [])\n",
    "    \n",
    "    # Print only the code and name for each entry\n",
    "    for entry in code_list_entries:\n",
    "        code = entry.get('code', 'N/A')\n",
    "        name = entry.get('name', {}).get('de', 'N/A')  # Assuming 'de' is the required language\n",
    "        print(f\"Code value: {code}, Name: {name}\")\n",
    "else:\n",
    "    print(f\"Failed to get data, status code: {response.status_code}\")\n"
   ]
  },
  {
   "cell_type": "markdown",
   "metadata": {},
   "source": [
    "## 2. Retrieve concept in JSON format by concept id\n",
    "\n",
    "**Endpoint URL**: `/api/concepts/{conceptId}/exports/json`\n",
    "\n",
    "**Method**: `GET`\n",
    "\n",
    "**Parameters**:\n",
    "\n",
    "- `conceptId` (required): The Concept Id\n",
    "\n",
    "\n",
    "**Status Codes:**\n",
    "\n",
    "- 200 OK: the request was sucessfull\n",
    "\n",
    "- Otherwise an error message is displayed. \n",
    "\n",
    "**Use case**: The Local Data Steward needs to retrieve the concept by the Concept Id in JSON format.\n",
    "\n",
    "**Request Examples**:"
   ]
  },
  {
   "cell_type": "code",
   "execution_count": 6,
   "metadata": {},
   "outputs": [
    {
     "name": "stderr",
     "output_type": "stream",
     "text": [
      "c:\\PROGRA~1\\python39\\lib\\site-packages\\urllib3\\connectionpool.py:1013: InsecureRequestWarning: Unverified HTTPS request is being made to host 'iop-partner-a.app.cfap02.atlantica.admin.ch'. Adding certificate verification is strongly advised. See: https://urllib3.readthedocs.io/en/1.26.x/advanced-usage.html#ssl-warnings\n",
      "  warnings.warn(\n"
     ]
    },
    {
     "name": "stdout",
     "output_type": "stream",
     "text": [
      "Response: 200\n",
      "{'data': {'codeListEntries': [{'annotations': [], 'code': '007EFF', 'name': {'de': 'Cyanblau'}}, {'annotations': [], 'code': '20A040', 'name': {'de': 'Mittelgrün'}}, {'annotations': [], 'code': '293C42', 'name': {'de': 'Paynesgrau'}}, {'annotations': [], 'code': '704214', 'name': {'de': 'Sepia'}}, {'annotations': [], 'code': 'D57453', 'name': {'de': 'Venezianischrot'}}, {'annotations': [], 'code': 'DA6E00', 'name': {'de': 'Gelborange'}}, {'annotations': [], 'code': 'DAA520', 'name': {'de': 'Ocker'}}, {'annotations': [], 'code': 'DEB943', 'name': {'de': 'Indischgelb'}}, {'annotations': [], 'code': 'FF0090', 'name': {'de': 'Purpurrot'}}, {'annotations': [], 'code': 'FFD700', 'name': {'de': 'Goldgelb'}}], 'codeListEntryValueMaxLength': 6, 'codeListEntryValueType': 'String', 'conceptType': 'CodeList', 'conformsTo': [], 'description': {'de': 'Hexadezimale Farbcode'}, 'id': '08db5130-b260-1607-88a9-8e013ffb44ea', 'identifier': '0_DemoTier_Farbe', 'keywords': [], 'name': {'de': 'Farbliche Erscheinung '}, 'publicationLevel': 'Public', 'publisher': {'identifier': 'i14y-test-organisation', 'name': {'de': 'I14Y Test Organisation_de', 'en': 'I14Y Test Organisation_en', 'fr': 'I14Y Test Organisation_fr', 'it': 'I14Y Test Organisation_it', 'rm': 'I14Y Test Organisation_rm'}}, 'registrationStatus': 'Recorded', 'registrationStatusProposal': 'Candidate', 'responsibleDeputy': {'id': '08db4b0d-c1ae-1688-88c1-9e9c3f179557', 'identifier': 'cornelia.neubacherkessler@bfs.admin.ch', 'name': 'Neubacher Kessler Cornelia BFS', 'firstName': '', 'lastName': ''}, 'responsiblePerson': {'id': '08da9646-6648-c028-8069-c443ee0b59f9', 'identifier': 'corinne.straub@bfs.admin.ch', 'name': 'Straub Corinne BFS', 'firstName': '', 'lastName': ''}, 'themes': [], 'validFrom': '2023-05-08', 'version': '1.0.0'}}\n"
     ]
    }
   ],
   "source": [
    "conceptId = \"08db5130-b260-1607-88a9-8e013ffb44ea\" #state the right concept id here \n",
    "url = f\"https://iop-partner-a.app.cfap02.atlantica.admin.ch/api/concepts/{conceptId}/exports/json\"\n",
    "\n",
    "response = r.get(url, headers = headers, verify = False)\n",
    "\n",
    "print(f\"Response: {response.status_code}\")\n",
    "\n",
    "print(response.json())\n",
    "\n",
    "# If you need to save the JSON to a file\n",
    "\n",
    "# json_content = response.json()\n",
    "# with open(\"concept_data.json\", \"w\") as json_file:\n",
    "#        json.dump(json_content, json_file, indent=4)  # write the JSON with indentation for readability"
   ]
  },
  {
   "cell_type": "markdown",
   "metadata": {},
   "source": [
    "## 3. Retrieve code list entries from a concept of the type CodeList by the concept Id\n",
    "\n",
    "**Endpoint URL**: `/api/concepts/{conceptId}/codelist-entries/exports/json`\n",
    "\n",
    "**Method**: `GET`\n",
    "\n",
    "**Parameters**:\n",
    "\n",
    "- `conceptId` (required): The Concept Id\n",
    "\n",
    "\n",
    "**Status Codes:**\n",
    "\n",
    "- 200 OK: the request was sucessfull\n",
    "\n",
    "- Otherwise an error message is displayed. \n",
    "\n",
    "**Use case**: The Local Data Steward needs to retrieve the code list entries from a concept of the type CodeList by the concept Id. \n",
    "\n",
    "**Request Examples**:"
   ]
  },
  {
   "cell_type": "code",
   "execution_count": 14,
   "metadata": {},
   "outputs": [
    {
     "name": "stderr",
     "output_type": "stream",
     "text": [
      "c:\\PROGRA~1\\python39\\lib\\site-packages\\urllib3\\connectionpool.py:1013: InsecureRequestWarning: Unverified HTTPS request is being made to host 'iop-partner-a.app.cfap02.atlantica.admin.ch'. Adding certificate verification is strongly advised. See: https://urllib3.readthedocs.io/en/1.26.x/advanced-usage.html#ssl-warnings\n",
      "  warnings.warn(\n"
     ]
    },
    {
     "name": "stdout",
     "output_type": "stream",
     "text": [
      "Code: 007EFF, Name: Cyanblau, Annotations: []\n",
      "Code: 20A040, Name: Mittelgrün, Annotations: []\n",
      "Code: 293C42, Name: Paynesgrau, Annotations: []\n",
      "Code: 704214, Name: Sepia, Annotations: []\n",
      "Code: D57453, Name: Venezianischrot, Annotations: []\n",
      "Code: DA6E00, Name: Gelborange, Annotations: []\n",
      "Code: DAA520, Name: Ocker, Annotations: []\n",
      "Code: DEB943, Name: Indischgelb, Annotations: []\n",
      "Code: FF0090, Name: Purpurrot, Annotations: []\n",
      "Code: FFD700, Name: Goldgelb, Annotations: []\n"
     ]
    }
   ],
   "source": [
    "conceptId = \"08db5130-b260-1607-88a9-8e013ffb44ea\" #state the right concept id here \n",
    "\n",
    "url = f\"https://iop-partner-a.app.cfap02.atlantica.admin.ch/api/concepts/{conceptId}/codelist-entries/exports/json\"\n",
    "\n",
    "response = r.get(url, headers = headers, verify = False)\n",
    "\n",
    "if response.status_code == 200:\n",
    "    data = json.loads(response.content)\n",
    "    \n",
    "    # Extract the codeListEntries\n",
    "    code_list_entries = data.get('data', [])\n",
    "    \n",
    "    # Print code, name, and annotations for each entry\n",
    "    for entry in code_list_entries:\n",
    "        code = entry.get('code', 'N/A')\n",
    "        name = entry.get('name', {}).get('de', 'N/A')  # Assuming 'de' is the required language\n",
    "        annotations = entry.get('annotations', [])  # Get annotations (in this case there are not annotations, so it prints an empty list)\n",
    "        \n",
    "        print(f\"Code: {code}, Name: {name}, Annotations: {annotations}\")\n",
    "else:\n",
    "    print(f\"Failed to get data, status code: {response.status_code}\")\n",
    "\n",
    "# If you need to save the JSON to a file\n",
    "\n",
    "# json_content = response.json()\n",
    "# with open(\"concept_data.json\", \"w\") as json_file:\n",
    "#        json.dump(json_content, json_file, indent=4)  # write the JSON with indentation for readability"
   ]
  },
  {
   "cell_type": "markdown",
   "metadata": {},
   "source": [
    "## 4. Retrieve the code list entries from a concept of type CodeList by the concept Id in CSV format\n",
    "\n",
    "**Endpoint URL**: `/api/concepts/{conceptId}/codelist-entries/exports/json`\n",
    "\n",
    "**Method**: `GET`\n",
    "\n",
    "**Parameters**:\n",
    "\n",
    "- `conceptId` (required): The Concept Id\n",
    "\n",
    "\n",
    "**Status Codes:**\n",
    "\n",
    "- 200 OK: the request was sucessfull\n",
    "- Otherwise an error message is displayed. \n",
    "\n",
    "**Use case**: The Local Data Steward needs to retrieve the code list entries from a concept of type CodeList by the concept Id in CSV format\n",
    "\n",
    "**Request Examples**:"
   ]
  },
  {
   "cell_type": "code",
   "execution_count": 8,
   "metadata": {},
   "outputs": [
    {
     "name": "stderr",
     "output_type": "stream",
     "text": [
      "c:\\PROGRA~1\\python39\\lib\\site-packages\\urllib3\\connectionpool.py:1013: InsecureRequestWarning: Unverified HTTPS request is being made to host 'iop-partner-a.app.cfap02.atlantica.admin.ch'. Adding certificate verification is strongly advised. See: https://urllib3.readthedocs.io/en/1.26.x/advanced-usage.html#ssl-warnings\n",
      "  warnings.warn(\n"
     ]
    },
    {
     "name": "stdout",
     "output_type": "stream",
     "text": [
      "Response: 200\n",
      "b'Code,ParentCode,Name_de,Name_fr,Name_it,Name_rm,Name_en,Description_de,Description_fr,Description_it,Description_rm,Description_en\\r\\n\"007EFF\",\"\",\"Cyanblau\",\"\",\"\",\"\",\"\",\"\",\"\",\"\",\"\",\"\"\\r\\n\"20A040\",\"\",\"Mittelgr\\xc3\\xbcn\",\"\",\"\",\"\",\"\",\"\",\"\",\"\",\"\",\"\"\\r\\n\"293C42\",\"\",\"Paynesgrau\",\"\",\"\",\"\",\"\",\"\",\"\",\"\",\"\",\"\"\\r\\n\"704214\",\"\",\"Sepia\",\"\",\"\",\"\",\"\",\"\",\"\",\"\",\"\",\"\"\\r\\n\"D57453\",\"\",\"Venezianischrot\",\"\",\"\",\"\",\"\",\"\",\"\",\"\",\"\",\"\"\\r\\n\"DA6E00\",\"\",\"Gelborange\",\"\",\"\",\"\",\"\",\"\",\"\",\"\",\"\",\"\"\\r\\n\"DAA520\",\"\",\"Ocker\",\"\",\"\",\"\",\"\",\"\",\"\",\"\",\"\",\"\"\\r\\n\"DEB943\",\"\",\"Indischgelb\",\"\",\"\",\"\",\"\",\"\",\"\",\"\",\"\",\"\"\\r\\n\"FF0090\",\"\",\"Purpurrot\",\"\",\"\",\"\",\"\",\"\",\"\",\"\",\"\",\"\"\\r\\n\"FFD700\",\"\",\"Goldgelb\",\"\",\"\",\"\",\"\",\"\",\"\",\"\",\"\",\"\"\\r\\n'\n"
     ]
    }
   ],
   "source": [
    "conceptId = \"08db5130-b260-1607-88a9-8e013ffb44ea\" #state the right concept id here \n",
    "\n",
    "url = f\"https://iop-partner-a.app.cfap02.atlantica.admin.ch/api/concepts/{conceptId}/codelist-entries/exports/csv\"\n",
    "\n",
    "response = r.get(url, headers = headers, verify = False)\n",
    "\n",
    "print(f\"Response: {response.status_code}\")\n",
    "print(response.content)\n",
    "\n",
    "#If you need to save the CSV content to a file \n",
    "\n",
    "#csv_content = response.content.decode(\"utf-8\") \n",
    "#with open(\"codelist_entries.csv\", \"w\", encoding=\"utf-8\") as csv_file:\n",
    "#        csv_file.write(csv_content)"
   ]
  },
  {
   "cell_type": "markdown",
   "metadata": {},
   "source": [
    "## 5. Create a new CodeList, Date, Numeric or String concept \n",
    "\n",
    "**Endpoint URL**: `/api/concepts`\n",
    "\n",
    "**Method**: `POST`\n",
    "\n",
    "**Parameters**:\n",
    "\n",
    "No parameters\n",
    "\n",
    "**Status Codes:**\n",
    "\n",
    "- 200 Created.\n",
    "\n",
    "- Otherwise an error message is displayed. \n",
    "\n",
    "**Use case**: The Local Data Steward needs to create a new codelist, Date, Numeric or String concept. \n",
    "\n",
    "**Request Examples**:"
   ]
  },
  {
   "cell_type": "code",
   "execution_count": 98,
   "metadata": {},
   "outputs": [
    {
     "name": "stderr",
     "output_type": "stream",
     "text": [
      "c:\\PROGRA~1\\python39\\lib\\site-packages\\urllib3\\connectionpool.py:1013: InsecureRequestWarning: Unverified HTTPS request is being made to host 'iop-partner-a.app.cfap02.atlantica.admin.ch'. Adding certificate verification is strongly advised. See: https://urllib3.readthedocs.io/en/1.26.x/advanced-usage.html#ssl-warnings\n",
      "  warnings.warn(\n"
     ]
    },
    {
     "name": "stdout",
     "output_type": "stream",
     "text": [
      "Status-Code: 201\n",
      "Concept Id: b'\"08dce92f-4271-d817-9025-032c6830db0e\"'\n"
     ]
    }
   ],
   "source": [
    "headers = {\n",
    "    'Content-Type': 'application/json',  # To make a valid request it's necessary to state the correct 'Content-Type' (Note: in the other POST APIs [point 6 and 7: import codelist entries] there is not need to state the 'Content-Type', in fact stating it it could lead to errors)\n",
    "    'Authorization': token \n",
    "}\n",
    "\n",
    "file_path = 'concept_data.json' #state the right file name here\n",
    "with open(file_path, 'r') as file:\n",
    "    json_data = file.read()\n",
    "\n",
    "url = 'https://iop-partner-a.app.cfap02.atlantica.admin.ch/api/concepts'\n",
    "\n",
    "response = r.post(url, headers=headers, data = json_data, verify = False)\n",
    "if response.status_code == 201:\n",
    "    print(f'Status-Code: {response.status_code}')\n",
    "    print(f'Concept Id: {response.content}')\n",
    "else:\n",
    "    print(f\"Error: {response.status_code} - {response.text}\")"
   ]
  },
  {
   "cell_type": "code",
   "execution_count": null,
   "metadata": {},
   "outputs": [],
   "source": [
    "// concept_data example (json format):\n",
    "\n",
    "{\n",
    "  \"data\": {\n",
    "    \"codeListEntryValueMaxLength\": 30,\n",
    "    \"codeListEntryValueType\": \"String\",\n",
    "    \"conceptType\": \"CodeList\",\n",
    "    \"conformsTo\": [],\n",
    "    \"description\": {\n",
    "      \"en\": \"This is an example\"\n",
    "    },\n",
    "    \"identifier\": \"test12345\",\n",
    "    \"keywords\": [],\n",
    "    \"name\": {\n",
    "      \"en\": \"test12345\"\n",
    "    },\n",
    "    \"publisher\": {\n",
    "      \"identifier\": \"i14y-test-organisation\",\n",
    "      \"name\": {\n",
    "        \"de\": \"I14Y Test Organisation_de\",\n",
    "        \"en\": \"I14Y Test Organisation_en\",\n",
    "        \"fr\": \"I14Y Test Organisation_fr\",\n",
    "        \"it\": \"I14Y Test Organisation_it\",\n",
    "        \"rm\": \"I14Y Test Organisation_rm\"\n",
    "      }\n",
    "    },\n",
    "    \"responsibleDeputy\": {\n",
    "      \"identifier\": \"full.name@bfs.admin.ch\",\n",
    "      \"name\": \"Full Name\",\n",
    "      \"firstName\": \"\",\n",
    "      \"lastName\": \"\"\n",
    "    },\n",
    "    \"responsiblePerson\": {\n",
    "      \"identifier\": \"max.muster@example.org\",\n",
    "      \"name\": \"Max Muster\",\n",
    "      \"firstName\": \"\",\n",
    "      \"lastName\": \"\"\n",
    "    },\n",
    "    \"themes\": [],\n",
    "    \"validFrom\": \"2024-10-09\",\n",
    "    \"version\": \"1.0.0\"\n",
    "  }\n",
    "}"
   ]
  },
  {
   "cell_type": "markdown",
   "metadata": {},
   "source": [
    "## 6. Import concept codelist entries by concept Id in JSON format\n",
    "\n",
    "**Endpoint URL**: `/api/concepts`\n",
    "\n",
    "**Method**: `POST`\n",
    "\n",
    "**Parameters**:\n",
    "\n",
    "No parameters\n",
    "\n",
    "**Status Codes:**\n",
    "\n",
    "- 204 No Content: request was sucessfull\n",
    "- Otherwise an error message is displayed. \n",
    "\n",
    "**Use Case**: A code list can be attached to a data concept of the CodeList type. It is assumed here that a code list is available in JSON format. An example of the structure of such a code list can be found in the [I14Y manual](https://i14y-ch.github.io/handbook/de/4_publikation/2_konzepte/#ergänzen-einer-codeliste). If everything works, status code 204 is displayed below. Otherwise an error message is displayed. \n",
    "\n",
    "**Request Examples**:"
   ]
  },
  {
   "cell_type": "code",
   "execution_count": 59,
   "metadata": {},
   "outputs": [
    {
     "name": "stderr",
     "output_type": "stream",
     "text": [
      "c:\\PROGRA~1\\python39\\lib\\site-packages\\urllib3\\connectionpool.py:1013: InsecureRequestWarning: Unverified HTTPS request is being made to host 'api-a.i14y.admin.ch'. Adding certificate verification is strongly advised. See: https://urllib3.readthedocs.io/en/1.26.x/advanced-usage.html#ssl-warnings\n",
      "  warnings.warn(\n"
     ]
    },
    {
     "name": "stdout",
     "output_type": "stream",
     "text": [
      "Status-Code: 204\n"
     ]
    }
   ],
   "source": [
    "headers = { \n",
    "    'Authorization': token #In the headers it should not be defined the 'Content-Type', it is automatically managed by the requests library (otherwise it can lead to errors). If you need to define it, please refer to Use Case 3 (at the end of the notebook)\n",
    "}\n",
    "\n",
    "\n",
    "concept_id = \"08dcce82-7e40-c502-b736-44cbbb6d3577\" #state the right concept id here \n",
    "url = f'https://iop-partner-a.app.cfap02.atlantica.admin.ch/api/concepts/{concept_id}/codelist-entries/imports/json'\n",
    "\n",
    "file_path = 'example.json' #state the right file name here\n",
    "with open(file_path, 'rb') as file:\n",
    "    files = {\n",
    "        'file': (file_path, file, 'text/json')\n",
    "    }\n",
    "    response = r.post(url, headers=headers, files=files, verify = False)\n",
    "\n",
    "print(f'Status-Code: {response.status_code}')\n"
   ]
  },
  {
   "cell_type": "code",
   "execution_count": null,
   "metadata": {},
   "outputs": [],
   "source": [
    "// Example codelist entries in json format: \n",
    "\n",
    "{\n",
    "  \"codeListEntries\": [\n",
    "    {\n",
    "      \"annotations\": [],\n",
    "      \"code\": \"10\",\n",
    "      \"description\": {\n",
    "        \"de\": \"Die Frühgeschichte umfasst die Zeit von ca. 2,5 Millionen v. Chr. bis 500 v. Chr.\",\n",
    "        \"en\": \"Early history covers the period from around 2.5 million BC to 500 BC.\",\n",
    "        \"fr\": \"La Préhistoire couvre la période d'environ 2,5 millions av. J.-C. à 500 av. J.-C.\",\n",
    "        \"it\": \"Preistoria comprende il periodo da circa 2,5 milioni a.C. al 500 a.C.\"\n",
    "      },\n",
    "      \"name\": {\n",
    "        \"de\": \"Frühgeschichte\",\n",
    "        \"en\": \"Prehistory\",\n",
    "        \"fr\": \"Préhistoire\",\n",
    "        \"it\": \"Preistoria\"\n",
    "      }\n",
    "    },\n",
    "\n",
    "    {\n",
    "      \"annotations\": [  //note : it's possible to add annotations \n",
    "        {\n",
    "          \"identifier\": \"wikimedia_iron_age\",\n",
    "          \"text\": {\n",
    "            \"de\": \"Bilder und Grafiken auf Wikimedia Commons\",\n",
    "            \"en\": \"Images and graphics on Wikimedia Commons\",\n",
    "            \"fr\": \"Images et graphiques sur Wikimedia Commons\",\n",
    "            \"it\": \"Immagini e grafica su Wikimedia Commons\"\n",
    "          },\n",
    "          \"title\": \"Wikimedia Commons\",\n",
    "          \"type\": \"media\",\n",
    "          \"uri\": \"https://commons.wikimedia.org/wiki/Category:Iron_Age\"\n",
    "        }\n",
    "      ],\n",
    "      \"code\": \"13\",\n",
    "      \"description\": {\n",
    "        \"de\": \"Die Eisenzeit umfasst die Zeit von ca. 1200 v. Chr. bis 500 v. Chr.\",\n",
    "        \"en\": \"The Iron Age covers the period from around 1200 BC to 500 BC.\",\n",
    "        \"fr\": \"La période du fer s'étend d'environ 1200 av. J.-C. à 500 av. J.-C.\",\n",
    "        \"it\": \"L'età del ferro copre il periodo che va dal 1200 a.C. al 500 a.C. circa.\"\n",
    "      },\n",
    "      \"name\": {\n",
    "        \"de\": \"Eisenzeit\",\n",
    "        \"en\": \"Iron Age\",\n",
    "        \"fr\": \"Période du fer\",\n",
    "        \"it\": \"Età del ferro\"\n",
    "      },\n",
    "      \"parentCode\": \"10\"\n",
    "    },\n",
    "\n",
    "  ]\n",
    "}"
   ]
  },
  {
   "cell_type": "markdown",
   "metadata": {},
   "source": [
    "## 7. Import concept codelist entries by concept Id in CSV format\n",
    "\n",
    "**Endpoint URL**: `/api/concepts`\n",
    "\n",
    "**Method**: `POST`\n",
    "\n",
    "**Parameters**:\n",
    "\n",
    "No parameters\n",
    "\n",
    "**Status Codes:**\n",
    "\n",
    "- 204 No Content: request was sucessfull\n",
    "- Otherwise an error message is displayed. \n",
    "\n",
    "**Use Case**: A code list can be attached to a data concept of the CodeList type. It is assumed here that a code list is available in CSV format. An example of the structure of such a code list can be found in the [I14Y manual](https://i14y-ch.github.io/handbook/de/4_publikation/2_konzepte/#ergänzen-einer-codeliste). If everything works, status code 204 is displayed below. Otherwise an error message is displayed. \n",
    "\n",
    "**Request Examples**:"
   ]
  },
  {
   "cell_type": "code",
   "execution_count": 56,
   "metadata": {},
   "outputs": [
    {
     "name": "stderr",
     "output_type": "stream",
     "text": [
      "c:\\PROGRA~1\\python39\\lib\\site-packages\\urllib3\\connectionpool.py:1013: InsecureRequestWarning: Unverified HTTPS request is being made to host 'api-a.i14y.admin.ch'. Adding certificate verification is strongly advised. See: https://urllib3.readthedocs.io/en/1.26.x/advanced-usage.html#ssl-warnings\n",
      "  warnings.warn(\n"
     ]
    },
    {
     "name": "stdout",
     "output_type": "stream",
     "text": [
      "Status-Code: 204\n",
      "Antwort des Servers (falls vorhanden): \n"
     ]
    }
   ],
   "source": [
    "headers = { \n",
    "    'Authorization': token #In the headers it should not be defined the 'Content-Type', it is automatically managed by the requests library (otherwise it can lead to errors). If you need to define it, please refer to Use Case 3 (at the end of the notebook)\n",
    "}\n",
    "concept_id= \"08dcce6f-f7ce-cacb-b385-2b907bc45bb3\" #state the right concept id here \n",
    "url = f'https://iop-partner-a.app.cfap02.atlantica.admin.ch/api/concepts/{concept_id}/codelist-entries/imports/csv'\n",
    "\n",
    "file_path = 'example.csv'#state the right file name here\n",
    "with open(file_path, 'rb') as file:\n",
    "    files = {\n",
    "        'file': (file_path, file, 'text/csv')\n",
    "    }\n",
    "    response = r.post(url, headers=headers, files=files, verify = False)\n",
    "\n",
    "print(f'Status-Code: {response.status_code}')\n",
    "print(f'Response from the server (if available): {response.text}')"
   ]
  },
  {
   "cell_type": "raw",
   "metadata": {},
   "source": [
    "//example codelist entries in CSV format\n",
    "\n",
    "Code,ParentCode,Name_de,Name_fr,Name_it,Name_rm,Name_en,Description_de,Description_fr,Description_it,Description_rm,Description_en,Annotation_media_Type,Annotation_media_Title,Annotation_media_URI,Annotation_media_Identifier,Annotation_media_Text_de,Annotation_media_Text_fr,Annotation_media_Text_it,Annotation_media_Text_rm,Annotation_media_Text_en\n",
    "\"10\",\"\",\"Frühgeschichte\",\"Préhistoire\",\"Preistoria\",\"\",\"Prehistory\",\"Die Frühgeschichte umfasst die Zeit von ca. 2,5 Millionen v. Chr. bis 500 v. Chr.\",\"\",\"La Préhistoire couvre la période d'environ 2,5 millions av. J.-C. à 500 av. J.-C.\",\"\",\"Preistoria comprende il periodo da circa 2,5 milioni a.C. al 500 a.C.\",\"\",\"\",\"\",\"\",\"\",\"\",\"\",\"\",\"\"\n",
    "\"11\",\"10\",\"Steinzeit\",\"Période de la pierre\",\"Età della pietra\",\"\",\"Temp da la peira\",\"Stone Age\",\"Die Steinzeit umfasst die Zeit von ca. 2,5 Millionen v. Chr. bis 10.000 v. Chr.\",\"\",\"La période de la pierre couvre la période d'environ 2,5 millions av. J.-C. à 10 000 av. J.-C.\",\"\",\"media\",\"Wikimedia Commons\",\"https://commons.wikimedia.org/wiki/Category:Stone_Age,wikimedia_commons\",\"wikimedia_stone_age\",\"Bilder und Grafiken auf Wikimedia Commons\",\"Images et graphiques sur Wikimedia Commons\",\"Immagini e grafica su Wikimedia Commons\",\"\",\"Images and graphics on Wikimedia Commons\"\n",
    "\"12\",\"10\",\"Bronzezeit\",\"Période du bronze\",\"Età del bronzo\",\"Temp dal bronza\",\"\",\"Bronze Age\",\"Die Bronzezeit erstreckt sich von ca. 3000 v. Chr. bis 2200 v. Chr.\",\"\",\"La période du bronze s'étend d'environ 3000 av. J.-C. à 2200 av. J.-C.\",\"\",\"media\",\"Wikimedia Commons\",\"https://commons.wikimedia.org/wiki/Category:Bronze_Age\",\"wikimedia_bronze_age\",\"Bilder und Grafiken auf Wikimedia Commons\",\"Images et graphiques sur Wikimedia Commons\",\"Immagini e grafica su Wikimedia Commons\",\"\",\"Images and graphics on Wikimedia Commons\"\n",
    "\"13\",\"10\",\"Eisenzeit\",\"Période du fer\",\"Età del ferro\",\"Temp dal ferd\",\"\",\"Iron Age\",\"Die Eisenzeit umfasst die Zeit von ca. 1200 v. Chr. bis 500 v. Chr.\",\"\",\"La période du fer s'étend d'environ 1200 av. J.-C. à 500 av. J.-C.\",\"\",\"media\",\"Wikimedia Commons\",\"https://commons.wikimedia.org/wiki/Category:Iron_Age\",\"wikimedia_iron_age\",\"Bilder und Grafiken auf Wikimedia Commons\",\"Images et graphiques sur Wikimedia Commons\",\"Immagini e grafica su Wikimedia Commons\",\"\",\"Images and graphics on Wikimedia Commons\"\n",
    "\"20\",\"\",\"Antike\",\"Antiquité\",\"Antichità\",\"\",\"Antiquity\",\"Die Antike erstreckt sich von ca. 500 v. Chr. bis 500 n. Chr.\",\"\",\"L'Antiquité s'étend d'environ 500 av. J.-C. à 500 ap. J.-C.\",\"\",\"L'Antichità va da circa 500 a.C. al 500 d.C.\",\"\",\"\",\"\",\"\",\"\",\"\",\"\",\"\",\"\"\n",
    "Dieses Beispiel enthält eine Annotation. Für jede zusätzliche Annotation fügen sie weitere Spalten an. Dabei wählen Sie"
   ]
  },
  {
   "cell_type": "markdown",
   "metadata": {},
   "source": [
    "## 8. Set the publication level proposal of the concept by id\n",
    "\n",
    "**Endpoint URL**: `/api/concepts/{conceptId}/publication-level-proposal`\n",
    "\n",
    "**Method**: `PUT`\n",
    "\n",
    "**Parameters**:\n",
    "\n",
    "- `conceptId` (required): The Concept Id\n",
    "- `proposal` (required): Internal or Public \n",
    "\n",
    "**Status Codes:**\n",
    "\n",
    "- 204 No Content: request was sucessfull\n",
    "- Otherwise an error message is displayed. \n",
    "\n",
    "**Use case**: The Local Data Steward needs to change the pubblication level proposal of the concept. For now the LDS can only set the publication level proposal and not the publication level itself.  \n",
    "\n",
    "**Request Examples**:"
   ]
  },
  {
   "cell_type": "code",
   "execution_count": 21,
   "metadata": {},
   "outputs": [
    {
     "name": "stderr",
     "output_type": "stream",
     "text": [
      "c:\\PROGRA~1\\python39\\lib\\site-packages\\urllib3\\connectionpool.py:1013: InsecureRequestWarning: Unverified HTTPS request is being made to host 'iop-partner-a.app.cfap02.atlantica.admin.ch'. Adding certificate verification is strongly advised. See: https://urllib3.readthedocs.io/en/1.26.x/advanced-usage.html#ssl-warnings\n",
      "  warnings.warn(\n"
     ]
    },
    {
     "name": "stdout",
     "output_type": "stream",
     "text": [
      "Concept pubblication level proposal updated successfully\n"
     ]
    }
   ],
   "source": [
    "concept_id= \"08dcee7c-de4b-b80d-9bc9-68c7fe1699d5\" #state the right concept id here \n",
    "url = f\"https://iop-partner-a.app.cfap02.atlantica.admin.ch/api/concepts/{concept_id}/publication-level-proposal\"\n",
    "params = {'proposal': 'Public'}\n",
    "response = r.put(url, headers=headers, params=params, verify = False)\n",
    "\n",
    "if response.status_code == 204:\n",
    "    print(\"Concept pubblication level proposal updated successfully\")\n",
    "else:\n",
    "    print(f\"Error: {response.status_code} - {response.text}\")"
   ]
  },
  {
   "cell_type": "markdown",
   "metadata": {},
   "source": [
    "## 9. Set the registration status proposal of the concept with the specified id. \n",
    "\n",
    "**Endpoint URL**: `/api/concepts/{conceptId}/registration-status-proposal`\n",
    "\n",
    "**Method**: `PUT`\n",
    "\n",
    "**Parameters**:\n",
    "\n",
    "- `conceptId` (required): The Concept Id\n",
    "- `proposal` (optional): *Available values* : Incomplete, Candidate, Recorded, Qualified, Standard, PreferredStandard, Superseded, Retired\n",
    "\n",
    "\n",
    "**Status Codes:**\n",
    "\n",
    "- 204 No Content: request was sucessfull\n",
    "- Otherwise an error message is displayed.  \n",
    "\n",
    "**Use case**: The Local Data Steward needs to update the registration status proposal. Once the registration status is set to Recorded is not possible to set the registration status proposal to Incomplete or Candidate. \n",
    "\n",
    "**Request Examples**:\n"
   ]
  },
  {
   "cell_type": "code",
   "execution_count": 19,
   "metadata": {},
   "outputs": [
    {
     "name": "stderr",
     "output_type": "stream",
     "text": [
      "c:\\PROGRA~1\\python39\\lib\\site-packages\\urllib3\\connectionpool.py:1013: InsecureRequestWarning: Unverified HTTPS request is being made to host 'iop-partner-a.app.cfap02.atlantica.admin.ch'. Adding certificate verification is strongly advised. See: https://urllib3.readthedocs.io/en/1.26.x/advanced-usage.html#ssl-warnings\n",
      "  warnings.warn(\n"
     ]
    },
    {
     "name": "stdout",
     "output_type": "stream",
     "text": [
      "Concept registration status proposal updated successfully\n"
     ]
    }
   ],
   "source": [
    "concept_id= \"08dcee7c-de4b-b80d-9bc9-68c7fe1699d5\" #state the right concept id here \n",
    "url = f\"https://iop-partner-a.app.cfap02.atlantica.admin.ch/api/concepts/{concept_id}/registration-status-proposal\"\n",
    "params = {'proposal': 'Candidate'}\n",
    "response = r.put(url, headers=headers, params=params, verify = False)\n",
    "\n",
    "if response.status_code == 204:\n",
    "    print(\"Concept registration status proposal updated successfully\")\n",
    "else:\n",
    "    print(f\"Error: {response.status_code} - {response.text}\")"
   ]
  },
  {
   "cell_type": "markdown",
   "metadata": {},
   "source": [
    "## 10. Set the registration status of the concept with the specified id. \n",
    "\n",
    "**Endpoint URL**: `/api/concepts/{conceptId}/registration-status-proposal`\n",
    "\n",
    "**Method**: `PUT`\n",
    "\n",
    "**Parameters**:\n",
    "\n",
    "- `conceptId` (required): The Concept Id\n",
    "- `status` (required): *Available values* : Incomplete, Candidate, Recorded, Qualified, Standard, PreferredStandard, Superseded, Retired\n",
    "\n",
    "**Status Codes:**\n",
    "\n",
    "- 204 No Content: request was sucessfull\n",
    "- Otherwise an error message is displayed. \n",
    "\n",
    "**Use case**: The Local Data Steward needs to update the registration status. The registration status can be changed only after a registration status proposal has been made. \n",
    "\n",
    "Once the registration status is set to Recorded is not possible to set the registration status to Incomplete or Candidate. \n",
    "\n",
    "**Request Examples**:"
   ]
  },
  {
   "cell_type": "code",
   "execution_count": 20,
   "metadata": {},
   "outputs": [
    {
     "name": "stderr",
     "output_type": "stream",
     "text": [
      "c:\\PROGRA~1\\python39\\lib\\site-packages\\urllib3\\connectionpool.py:1013: InsecureRequestWarning: Unverified HTTPS request is being made to host 'iop-partner-a.app.cfap02.atlantica.admin.ch'. Adding certificate verification is strongly advised. See: https://urllib3.readthedocs.io/en/1.26.x/advanced-usage.html#ssl-warnings\n",
      "  warnings.warn(\n"
     ]
    },
    {
     "name": "stdout",
     "output_type": "stream",
     "text": [
      "Concept registration status updated successfully\n"
     ]
    }
   ],
   "source": [
    "concept_id= \"08dcee7c-de4b-b80d-9bc9-68c7fe1699d5\" #state the right concept id here \n",
    "url = f\"https://iop-partner-a.app.cfap02.atlantica.admin.ch/api/concepts/{concept_id}/registration-status\"\n",
    "params = {'status': 'Candidate'}\n",
    "response = r.put(url, headers=headers, params=params, verify = False)\n",
    "\n",
    "if response.status_code == 204:\n",
    "    print(\"Concept registration status updated successfully\")\n",
    "else:\n",
    "    print(f\"Error: {response.status_code} - {response.text}\")"
   ]
  },
  {
   "cell_type": "markdown",
   "metadata": {},
   "source": [
    "## 11. Delete all code list entries by concept id.\n",
    "\n",
    "**Endpoint URL**: `/api/concepts/{conceptId}/codelist-entries`\n",
    "\n",
    "**Method**: `DELETE`\n",
    "\n",
    "**Parameters**:\n",
    "\n",
    "- `conceptId` (required): The Concept Id\n",
    "**Status Codes:**\n",
    "\n",
    "- 204 No Content: request was sucessfull\n",
    "- Otherwise an error message is displayed. \n",
    "\n",
    "**Use case**: The Local Data Steward needs to delete a all code list entries of a concept with the current status **Incomplete** or **Candidate**. Once the concept is **Recorded** is not possible to delete the code list entries.  \n",
    "\n",
    "**Request Examples**:"
   ]
  },
  {
   "cell_type": "code",
   "execution_count": 30,
   "metadata": {},
   "outputs": [
    {
     "name": "stderr",
     "output_type": "stream",
     "text": [
      "c:\\PROGRA~1\\python39\\lib\\site-packages\\urllib3\\connectionpool.py:1013: InsecureRequestWarning: Unverified HTTPS request is being made to host 'iop-partner-a.app.cfap02.atlantica.admin.ch'. Adding certificate verification is strongly advised. See: https://urllib3.readthedocs.io/en/1.26.x/advanced-usage.html#ssl-warnings\n",
      "  warnings.warn(\n"
     ]
    },
    {
     "name": "stdout",
     "output_type": "stream",
     "text": [
      "Concept deleted successfully\n"
     ]
    }
   ],
   "source": [
    "concept_id = \"08dcce43-85e3-7431-b95c-2291ac448778\" #state the right concept id here \n",
    "url = f\"https://iop-partner-a.app.cfap02.atlantica.admin.ch/api/concepts/{concept_id}/codelist-entries\"\n",
    "\n",
    "response = r.delete(url, headers=headers, verify = False)\n",
    "\n",
    "if response.status_code == 204:\n",
    "    print(\"Code List entries deleted successfully\")\n",
    "else:\n",
    "    print(f\"Error: {response.status_code} - {response.text}\")"
   ]
  },
  {
   "cell_type": "markdown",
   "metadata": {},
   "source": [
    "# Datasets\n",
    "## 5. Create a new DCAT Dataset\n",
    "\n",
    "**Endpoint URL**: `/api/datasets`\n",
    "\n",
    "**Method**: `POST`\n",
    "\n",
    "**Parameters**:\n",
    "\n",
    "No parameters\n",
    "\n",
    "**Status Codes:**\n",
    "\n",
    "- 201 Created.\n",
    "\n",
    "- Otherwise an error message is displayed. \n",
    "\n",
    "**Use case**: The Local Data Steward needs to create a new DCAT dataset. \n",
    "\n",
    "**Request Examples**:"
   ]
  },
  {
   "cell_type": "code",
   "execution_count": 16,
   "metadata": {},
   "outputs": [
    {
     "name": "stderr",
     "output_type": "stream",
     "text": [
      "c:\\PROGRA~1\\python39\\lib\\site-packages\\urllib3\\connectionpool.py:1013: InsecureRequestWarning: Unverified HTTPS request is being made to host 'iop-partner-a.app.cfap02.atlantica.admin.ch'. Adding certificate verification is strongly advised. See: https://urllib3.readthedocs.io/en/1.26.x/advanced-usage.html#ssl-warnings\n",
      "  warnings.warn(\n"
     ]
    },
    {
     "name": "stdout",
     "output_type": "stream",
     "text": [
      "Status-Code: 201\n",
      "Dataset Id: b'\"cec17f6c-a0a2-4a4a-b450-a5be9e07f42b\"'\n"
     ]
    }
   ],
   "source": [
    "headers = {\n",
    "    'Content-Type': 'application/json',  # To make a valid request it's necessary to state the correct 'Content-Type'\n",
    "    'Authorization': token \n",
    "}\n",
    "\n",
    "file_path = 'datasetData.json' #state the right file name here\n",
    "with open(file_path, 'r') as file:\n",
    "    json_data = file.read()\n",
    "\n",
    "url = 'https://iop-partner-a.app.cfap02.atlantica.admin.ch/api/datasets'\n",
    "\n",
    "response = r.post(url, headers=headers, data = json_data, verify = False)\n",
    "if response.status_code == 201:\n",
    "    print(f'Status-Code: {response.status_code}')\n",
    "    print(f'Dataset Id: {response.content}')\n",
    "else:\n",
    "    print(f\"Error: {response.status_code} - {response.text}\")"
   ]
  },
  {
   "cell_type": "markdown",
   "metadata": {},
   "source": [
    "Example datasetData.json: "
   ]
  },
  {
   "cell_type": "code",
   "execution_count": null,
   "metadata": {},
   "outputs": [],
   "source": [
    "{\n",
    "  \"data\": {\n",
    "    \"accessRights\": {\n",
    "      \"code\": \"PUBLIC\"\n",
    "    },\n",
    "    \"confidentialityPerson\": {\n",
    "      \"code\": \"person\"\n",
    "    },\n",
    "    \"conformsTo\": [\n",
    "      {\n",
    "        \"label\": {\n",
    "          \"en\": \"Label for information about conformance\"\n",
    "        },\n",
    "        \"uri\": \"https://conformsto.ch/\"\n",
    "      }\n",
    "    ],\n",
    "    \"contactPoints\": [\n",
    "      {\n",
    "        \"fn\": {\n",
    "         \"en\": \"contact name\"\n",
    "        },\n",
    "        \"hasAddress\": {\n",
    "          \"en\": \"contact address\"\n",
    "        },\n",
    "        \"hasEmail\": \"example@email.com\",\n",
    "        \"hasTelephone\": \"0910000000\",\n",
    "        \"kind\": \"Organization\",\n",
    "        \"note\": {\n",
    "          \"en\": \"this is a note\"\n",
    "        }\n",
    "      }\n",
    "    ],\n",
    "    \"description\": {\n",
    "      \"en\": \"description of the dataset\"\n",
    "    },\n",
    "\n",
    "    \"documentation\": [\n",
    "      {\n",
    "        \"label\": {\n",
    "          \"en\": \"this is the documentation\"\n",
    "        },\n",
    "        \"uri\": \"https://example.com\"\n",
    "      }\n",
    "    ],\n",
    "    \"frequency\": {\n",
    "      \"code\": \"OTHER\"\n",
    "    },\n",
    "    \"identifier\": \"Datset1267\",\n",
    "    \"keywords\": [\n",
    "      {\n",
    "        \"en\": \"keyword1\"\n",
    "       \n",
    "      }, \n",
    "      {\n",
    "        \"en\": \"keyword2\"\n",
    "       \n",
    "      }\n",
    "    ],\n",
    "    \"landingPages\": [\n",
    "      {\n",
    "    \n",
    "        \"uri\": \"https://landingpage.ch/\"\n",
    "      }\n",
    "    ],\n",
    "    \"languages\": [\n",
    "      {\n",
    "        \"code\": \"en\"\n",
    "      }\n",
    "    ],\n",
    "    \"processId\": \"12345\",\n",
    "    \"publisher\": {\n",
    "      \"identifier\": \"i14y-test-organisation\"\n",
    "    },\n",
    "    \"responsibleDeputy\": {\n",
    "      \"identifier\": \"max.muster@example.org\"\n",
    "    },\n",
    "    \"responsiblePerson\": {\n",
    "      \"identifier\": \"lien.beroggi@bfs.admin.ch\"\n",
    "    },\n",
    "    \"retentionPeriod\": \"2025-11-05\",\n",
    "    \"retentionPeriodComplement\": {\n",
    "   \n",
    "      \"en\": \"this is a note\"\n",
    "      \n",
    "    },\n",
    "    \"spatial\": [\n",
    "      \"Bern\"\n",
    "    ],\n",
    "    \"temporalCoverage\": [\n",
    "      {\n",
    "        \"start\": \"2022-11-05\",\n",
    "        \"end\": \"2024-11-05\"\n",
    "      }\n",
    "    ],\n",
    "    \"themes\": [\n",
    "      {\n",
    "        \"code\": \"121\"\n",
    "      }\n",
    "    ],\n",
    "    \"title\": {\n",
    "      \"en\": \"dataset test identif\"\n",
    "    },\n",
    "    \"version\": \"1.0\",\n",
    "    \"versionNotes\": {\n",
    "      \"en\": \"this is a note\"\n",
    "    }\n",
    "  }\n",
    "}"
   ]
  },
  {
   "cell_type": "markdown",
   "metadata": {},
   "source": [
    "# PublicServices"
   ]
  },
  {
   "cell_type": "markdown",
   "metadata": {},
   "source": [
    "## 1. Retrieve all Public Services\n",
    "\n",
    "**Endpoint URL**: `/api/publicservices/exports/json`\n",
    "\n",
    "**Method**: `GET`\n",
    "\n",
    "**Parameters**:\n",
    "\n",
    "No parameters\n",
    "\n",
    "\n",
    "**Status Codes:**\n",
    "\n",
    "- 200 OK: the request was sucessfull\n",
    "\n",
    "**Use case**: The Local Data Steward needs to retrieve all Public Services. \n",
    "\n",
    "**Request Examples**:"
   ]
  },
  {
   "cell_type": "code",
   "execution_count": 28,
   "metadata": {},
   "outputs": [
    {
     "name": "stdout",
     "output_type": "stream",
     "text": [
      "<Response [200]>\n"
     ]
    },
    {
     "name": "stderr",
     "output_type": "stream",
     "text": [
      "c:\\PROGRA~1\\python39\\lib\\site-packages\\urllib3\\connectionpool.py:1013: InsecureRequestWarning: Unverified HTTPS request is being made to host 'iop-partner-a.app.cfap02.atlantica.admin.ch'. Adding certificate verification is strongly advised. See: https://urllib3.readthedocs.io/en/1.26.x/advanced-usage.html#ssl-warnings\n",
      "  warnings.warn(\n"
     ]
    }
   ],
   "source": [
    "url = \"https://iop-partner-a.app.cfap02.atlantica.admin.ch/api/publicservices/exports/json\"\n",
    "\n",
    "response = r.get(url, headers = headers, verify = False)\n",
    "\n",
    "print(response)\n",
    "\n",
    "# If you need to save the JSON to a file\n",
    "\n",
    "# json_content = response.json()\n",
    "# with open(\"publicservices_data.json\", \"w\") as json_file:\n",
    "#        json.dump(json_content, json_file, indent=4)  # write the JSON with indentation for readability"
   ]
  },
  {
   "cell_type": "markdown",
   "metadata": {},
   "source": [
    "-------------------------\n",
    "# Use Cases\n",
    "\n",
    "### Use Case 1: Additions or changes in a Concept: creation of a new version\n",
    "\n",
    "**Description**:  \n",
    "A Local Data Steward needs to modify an existing concept. The LDS can either create a new version of the concept using the I14Y web interface (by clicking on the \"create a new version\" button), or he can create a new version using the API. \n",
    "\n",
    "In order to create a new version using the APIs the LDS needs to use a POST request with the updated json data (the version number needs to be updated: <code> “version”: “2.0.0” </code>). \n",
    "\n"
   ]
  },
  {
   "cell_type": "code",
   "execution_count": 15,
   "metadata": {},
   "outputs": [
    {
     "name": "stderr",
     "output_type": "stream",
     "text": [
      "c:\\PROGRA~1\\python39\\lib\\site-packages\\urllib3\\connectionpool.py:1013: InsecureRequestWarning: Unverified HTTPS request is being made to host 'iop-partner-a.app.cfap02.atlantica.admin.ch'. Adding certificate verification is strongly advised. See: https://urllib3.readthedocs.io/en/1.26.x/advanced-usage.html#ssl-warnings\n",
      "  warnings.warn(\n"
     ]
    },
    {
     "name": "stdout",
     "output_type": "stream",
     "text": [
      "Response: 200\n",
      "JSON content successfully saved\n"
     ]
    }
   ],
   "source": [
    "# First we retrieve the json file corresponding to the concept that we need to change \n",
    "\n",
    "conceptId = \"08dc4e39-1631-f5bc-aebc-50d8804ee219\" #state the right concept id here \n",
    "url = f\"https://iop-partner-a.app.cfap02.atlantica.admin.ch/api/concepts/{conceptId}/exports/json\"\n",
    "\n",
    "response = r.get(url, headers = headers, verify = False)\n",
    "\n",
    "print(f\"Response: {response.status_code}\")\n",
    "\n",
    "# If the response is successful (status code 200), save the JSON to a file\n",
    "if response.status_code == 200:\n",
    "    json_content = response.json()\n",
    "    with open(\"concept_data.json\", \"w\") as json_file:\n",
    "        json.dump(json_content, json_file, indent=4)  # write the JSON with indentation for readability\n",
    "\n",
    "    print(\"JSON content successfully saved\")\n",
    "else:\n",
    "    print(\"Failed to retrieve the JSON content.\")"
   ]
  },
  {
   "cell_type": "code",
   "execution_count": null,
   "metadata": {},
   "outputs": [],
   "source": [
    "// concept_data example:\n",
    "// make the changes that are needed \n",
    "{\n",
    "  \"data\": {\n",
    "    \"codeListEntries\": [\n",
    "      {\n",
    "        \"annotations\": [],\n",
    "        \"code\": \"007EFF\",\n",
    "        \"name\": {\n",
    "          \"de\": \"2\"\n",
    "        }\n",
    "      },\n",
    "      {\n",
    "        \"annotations\": [],\n",
    "        \"code\": \"20A040\",\n",
    "        \"name\": {\n",
    "          \"de\": \"3\"\n",
    "        }\n",
    "      }\n",
    "    ],\n",
    "    \"codeListEntryValueMaxLength\": 14,\n",
    "    \"codeListEntryValueType\": \"String\",\n",
    "    \"conceptType\": \"CodeList\",\n",
    "    \"conformsTo\": [],\n",
    "    \"description\": {\n",
    "        \"de\": null,\n",
    "        \"en\": \"This is an example\",\n",
    "        \"fr\": null,\n",
    "        \"it\": null,\n",
    "        \"rm\": null\n",
    "    },\n",
    "    \"id\": \"08dc4e39-1631-f5bc-aebc-50d8804ee219\",\n",
    "    \"identifier\": \"ex_test123\",\n",
    "    \"keywords\": [],\n",
    "    \"name\": {\n",
    "        \"de\": null,\n",
    "        \"en\": \"ex_test123\",\n",
    "        \"fr\": null,\n",
    "        \"it\": null,\n",
    "        \"rm\": null\n",
    "    },\n",
    "    \"publicationLevel\": \"Internal\",\n",
    "    \"publisher\": {\n",
    "      \"identifier\": \"i14y-test-organisation\",\n",
    "      \"name\": {\n",
    "        \"de\": \"I14Y Test Organisation_de\",\n",
    "        \"en\": \"I14Y Test Organisation_en\",\n",
    "        \"fr\": \"I14Y Test Organisation_fr\",\n",
    "        \"it\": \"I14Y Test Organisation_it\",\n",
    "        \"rm\": \"I14Y Test Organisation_rm\"\n",
    "      }\n",
    "    },\n",
    "    \"responsibleDeputy\": {\n",
    "      \"identifier\": \"example.example@example.org\",\n",
    "      \"name\": \"Example Example\",\n",
    "      \"firstName\": \"\",\n",
    "      \"lastName\": \"\"\n",
    "    },\n",
    "    \"responsiblePerson\": {\n",
    "      \"identifier\": \"max.muster@example.org\",\n",
    "      \"name\": \"Max Muster\",\n",
    "      \"firstName\": \"\",\n",
    "      \"lastName\": \"\"\n",
    "    },\n",
    "    \"themes\": [],\n",
    "    \"validFrom\": \"2024-09-09\",\n",
    "    \"version\": \"2.0.0\" //new version updated (1.0.0 -> 2.0.0)\n",
    "  }\n",
    "}"
   ]
  },
  {
   "cell_type": "code",
   "execution_count": 18,
   "metadata": {},
   "outputs": [
    {
     "name": "stderr",
     "output_type": "stream",
     "text": [
      "c:\\PROGRA~1\\python39\\lib\\site-packages\\urllib3\\connectionpool.py:1013: InsecureRequestWarning: Unverified HTTPS request is being made to host 'iop-partner-a.app.cfap02.atlantica.admin.ch'. Adding certificate verification is strongly advised. See: https://urllib3.readthedocs.io/en/1.26.x/advanced-usage.html#ssl-warnings\n",
      "  warnings.warn(\n"
     ]
    },
    {
     "name": "stdout",
     "output_type": "stream",
     "text": [
      "Status-Code: 201\n",
      "b'\"08dcee80-75bd-8414-b5f2-f0f42770a293\"'\n"
     ]
    }
   ],
   "source": [
    "# Then we can post the new version of the concept. \n",
    "\n",
    "headers = { 'Accept': '*/*', \n",
    "            'Content-Type': 'application/json', #state the correct content type that is sent \n",
    "            'Authorization':  token\n",
    "        }\n",
    "        \n",
    "file_path = 'concept_data.json' #state the right file name here\n",
    "with open(file_path, 'r') as file:\n",
    "    json_data = file.read()\n",
    "\n",
    "url = 'https://iop-partner-a.app.cfap02.atlantica.admin.ch/api/concepts'\n",
    "\n",
    "response = r.post(url, headers=headers, data = json_data, verify = False)\n",
    "print(f'Status-Code: {response.status_code}')\n",
    "print(response.content)"
   ]
  },
  {
   "cell_type": "markdown",
   "metadata": {},
   "source": [
    "### Use Case 2: Additions or changes in a code list: delation of all entries and reupload of new corrected entries\n",
    "\n",
    "**Description**:  \n",
    "A Local Data Steward needs to modify an existing code list. The LDS has then to delete all code list entries and then he can reupload the new code list entries. Note that the deletion of all code list entries is only possible if the concept current status is Initial or Candidate."
   ]
  },
  {
   "cell_type": "code",
   "execution_count": 66,
   "metadata": {},
   "outputs": [
    {
     "name": "stderr",
     "output_type": "stream",
     "text": [
      "c:\\PROGRA~1\\python39\\lib\\site-packages\\urllib3\\connectionpool.py:1013: InsecureRequestWarning: Unverified HTTPS request is being made to host 'iop-partner-a.app.cfap02.atlantica.admin.ch'. Adding certificate verification is strongly advised. See: https://urllib3.readthedocs.io/en/1.26.x/advanced-usage.html#ssl-warnings\n",
      "  warnings.warn(\n"
     ]
    },
    {
     "name": "stdout",
     "output_type": "stream",
     "text": [
      "Code List entries deleted successfully\n"
     ]
    }
   ],
   "source": [
    "# First we delete all the code list entries by concept ID (more information can be found in point 12, section Concept)\n",
    "\n",
    "concept_id = \"08dce91c-5bc2-a98d-9931-0a9ba9d08ebd\" #state the right concept id here \n",
    "url = f\"https://iop-partner-a.app.cfap02.atlantica.admin.ch/api/concepts/{concept_id}/codelist-entries\"\n",
    "headers = {\n",
    "    'Accept': '*/*', \n",
    "    'Authorization': token\n",
    "}\n",
    "response = r.delete(url, headers=headers, verify = False)\n",
    "\n",
    "if response.status_code == 204:\n",
    "    print(\"Code List entries deleted successfully\")\n",
    "else:\n",
    "    print(f\"Error: {response.status_code} - {response.text}\")"
   ]
  },
  {
   "cell_type": "code",
   "execution_count": 67,
   "metadata": {},
   "outputs": [
    {
     "name": "stderr",
     "output_type": "stream",
     "text": [
      "c:\\PROGRA~1\\python39\\lib\\site-packages\\urllib3\\connectionpool.py:1013: InsecureRequestWarning: Unverified HTTPS request is being made to host 'iop-partner-a.app.cfap02.atlantica.admin.ch'. Adding certificate verification is strongly advised. See: https://urllib3.readthedocs.io/en/1.26.x/advanced-usage.html#ssl-warnings\n",
      "  warnings.warn(\n"
     ]
    },
    {
     "name": "stdout",
     "output_type": "stream",
     "text": [
      "Code List entries uploaded successfully!\n"
     ]
    }
   ],
   "source": [
    "# Secondly, we import the codelist entries in CSV format (more information can be found in point 6, section: Concept for json format; and point 7, section: Concept for CSV format)\n",
    "url = f'https://iop-partner-a.app.cfap02.atlantica.admin.ch/api/concepts/{concept_id}/codelist-entries/imports/csv'\n",
    "\n",
    "headers = {'Accept': '*/*', 'Authorization':  token}\n",
    "\n",
    "file_path = \"esempio.csv\" #state the right file name here\n",
    "with open(file_path, 'rb') as file:\n",
    "    files = {\n",
    "        'file': (file_path, file,'text/csv')\n",
    "    }\n",
    "    response = r.post(url, headers=headers, files=files, verify = False)\n",
    "\n",
    "if response.status_code == 204:\n",
    "    print(\"Code List entries uploaded successfully!\")\n",
    "else:\n",
    "    print(f\"Error: {response.status_code} - {response.text}\")"
   ]
  },
  {
   "cell_type": "markdown",
   "metadata": {},
   "source": [
    "### Use Case 3: Importing of codelist entries with 'Content-Type' defined in headers\n",
    "\n",
    "**Description**:  \n",
    "In Python, the requests library automatically manages the headers for certain operations, so you generally do not need to manually set them unless it is absolutely necessary. Specifically, when uploading files or sending certain types of requests, it’s important not to manually set the Content-Type header. This is because the requests library handles this header internally based on the data being sent. Manually setting the Content-Type to something like application/json or multipart/form-data can cause errors if it doesn't match the actual content being sent. You can refer to [the official requests documentation](https://requests.readthedocs.io/en/latest/user/quickstart/) for more details. \n",
    "\n",
    "In our case, the only essential header we need to manually include is the 'Authorization': token header. The Content-Type is best left to be handled automatically by requests.\n",
    "\n",
    "However, if it's necessary to define 'Content-Type', it can be done by using the [requests_toolbelt library](https://toolbelt.readthedocs.io/en/latest/user.html)’s MultipartEncoder: using MultipartEncoder from the requests_toolbelt package automatically handles the file upload as multipart form data, along with the necessary boundary."
   ]
  },
  {
   "cell_type": "code",
   "execution_count": 4,
   "metadata": {},
   "outputs": [
    {
     "name": "stderr",
     "output_type": "stream",
     "text": [
      "c:\\PROGRA~1\\python39\\lib\\site-packages\\urllib3\\connectionpool.py:1013: InsecureRequestWarning: Unverified HTTPS request is being made to host 'iop-partner-a.app.cfap02.atlantica.admin.ch'. Adding certificate verification is strongly advised. See: https://urllib3.readthedocs.io/en/1.26.x/advanced-usage.html#ssl-warnings\n",
      "  warnings.warn(\n"
     ]
    },
    {
     "name": "stdout",
     "output_type": "stream",
     "text": [
      "Status-Code: 204\n"
     ]
    }
   ],
   "source": [
    "#Content-Type defined as multipart/form-data\n",
    "\n",
    "from requests_toolbelt import MultipartEncoder\n",
    "import requests as r\n",
    "\n",
    "boundary = '------123455'\n",
    "\n",
    "headers = {\n",
    "    'Content-Type': f'multipart/form-data; boundary={boundary}',\n",
    "    'Authorization': token  \n",
    "}\n",
    "\n",
    "concept_id = \"08dcee7c-de4b-b80d-9bc9-68c7fe1699d5\" #use the right concept id here\n",
    "url = f'https://iop-partner-a.app.cfap02.atlantica.admin.ch/api/concepts/{concept_id}/codelist-entries/imports/csv'\n",
    "\n",
    "file_path = 'example.csv'\n",
    "\n",
    "with open(file_path, 'rb') as file:\n",
    "   \n",
    "    fields = {\n",
    "        'file': (file_path, file, 'text/csv')\n",
    "    }\n",
    "\n",
    "    # Create the MultipartEncoder object\n",
    "    form_data = MultipartEncoder(fields=fields, boundary=boundary)\n",
    "\n",
    "    # Update the headers to include the correct content-type set by MultipartEncoder\n",
    "    headers['Content-Type'] = form_data.content_type\n",
    "   \n",
    "    response = r.post(url, headers=headers, data=form_data, verify=False)\n",
    "\n",
    "\n",
    "print(f'Status-Code: {response.status_code}')"
   ]
  },
  {
   "cell_type": "code",
   "execution_count": 6,
   "metadata": {},
   "outputs": [
    {
     "name": "stderr",
     "output_type": "stream",
     "text": [
      "c:\\PROGRA~1\\python39\\lib\\site-packages\\urllib3\\connectionpool.py:1013: InsecureRequestWarning: Unverified HTTPS request is being made to host 'iop-partner-a.app.cfap02.atlantica.admin.ch'. Adding certificate verification is strongly advised. See: https://urllib3.readthedocs.io/en/1.26.x/advanced-usage.html#ssl-warnings\n",
      "  warnings.warn(\n"
     ]
    },
    {
     "name": "stdout",
     "output_type": "stream",
     "text": [
      "Status-Code: 204\n"
     ]
    }
   ],
   "source": [
    "#Content-Type defined as Application/json \n",
    "\n",
    "from requests_toolbelt import MultipartEncoder\n",
    "import requests as r\n",
    "\n",
    "\n",
    "boundary = '------123455'\n",
    "\n",
    "\n",
    "headers = {\n",
    "    'Content-Type': f'Application/json; boundary={boundary}',\n",
    "    'Authorization': token  \n",
    "}\n",
    "\n",
    "\n",
    "concept_id = \"08dcee7c-de4b-b80d-9bc9-68c7fe1699d5\" #use the right concept id here\n",
    "url = f'https://iop-partner-a.app.cfap02.atlantica.admin.ch/api/concepts/{concept_id}/codelist-entries/imports/json'\n",
    "\n",
    "file_path = 'example.json'\n",
    "\n",
    "\n",
    "with open(file_path, 'rb') as file:\n",
    "   \n",
    "    fields = {\n",
    "        'file': (file_path, file, 'text/json')  # The key 'file' matches the expected field name\n",
    "    }\n",
    "\n",
    "    # Create the MultipartEncoder object\n",
    "    form_data = MultipartEncoder(fields=fields, boundary=boundary)\n",
    "\n",
    "    # Update the headers to include the correct content-type set by MultipartEncoder\n",
    "    headers['Content-Type'] = form_data.content_type\n",
    "\n",
    "   \n",
    "    response = r.post(url, headers=headers, data=form_data, verify=False)\n",
    "\n",
    "\n",
    "print(f'Status-Code: {response.status_code}')"
   ]
  }
 ],
 "metadata": {
  "kernelspec": {
   "display_name": "Python 3.9.7 ('base')",
   "language": "python",
   "name": "python3"
  },
  "language_info": {
   "codemirror_mode": {
    "name": "ipython",
    "version": 3
   },
   "file_extension": ".py",
   "mimetype": "text/x-python",
   "name": "python",
   "nbconvert_exporter": "python",
   "pygments_lexer": "ipython3",
   "version": "3.9.7"
  },
  "orig_nbformat": 4,
  "vscode": {
   "interpreter": {
    "hash": "94b3a81435acc63bd930e86da5e2eb338d56cfc6e722049d2fbed8b8fefbb3de"
   }
  }
 },
 "nbformat": 4,
 "nbformat_minor": 2
}
