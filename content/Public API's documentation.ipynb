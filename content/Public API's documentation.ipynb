{
 "cells": [
  {
   "cell_type": "markdown",
   "metadata": {},
   "source": [
    "# Public - API's documentation\n",
    "\n",
    "-------------------------"
   ]
  },
  {
   "cell_type": "markdown",
   "metadata": {},
   "source": [
    "# Summary of Content\n",
    "\n",
    "- [Introduction](#introduction)\n",
    "\n",
    "- [Catalogs](#catalogs)\n",
    "    - [Retrieve catalog by catalog id in RDF format](#retrieve-catalog-by-catalog-id-in-rdf-format)\n",
    "    - [Retrieve catalog by catalog id in TTL format](#retrieve-catalog-by-catalog-id-in-ttl-format)\n",
    "\n",
    "- [Datasets](#datasets)\n",
    "    - [Retrieve dataset by dataset id](#retrieve-dataset-by-dataset-id)\n",
    "    - [Retrieve datasets matching given filters](#retrieve-datasets-matching-given-filters)\n",
    "    - [Retrieve structure of the dataset in different formats](#retrieve-structure-of-the-dataset-in-different-formats)\n",
    "\n",
    "- [DataServices](#dataservices)\n",
    "    - [Retrieve the data service by id](#retrieve-the-data-service-by-id)\n",
    "    - [Retrieve data services matching given filters](#retrieve-data-services-matching-given-filters)\n",
    "\n",
    "- [Concepts](#concepts)\n",
    "    - [Retrieve Concept by id](#retrieve-concept-by-id)\n",
    "    - [Retrieve concept in JSON format by concept id](#retrieve-concept-in-json-format-by-concept-id)\n",
    "    - [Retrieve the code list entries from a concept of the type CodeList by the concept Id in json format](#retrieve-the-code-list-entries-from-a-concept-of-the-type-codelist-by-the-concept-id-in-json-format)\n",
    "    - [Retrieve the code list entries from a concept of type CodeList by the concept Id in CSV format](#retrieve-the-code-list-entries-from-a-concept-of-type-codelist-by-the-concept-id-in-csv-format)\n",
    "    - [Retrieve Concepts matching the given filters](#retrieve-concepts-matching-the-given-filters)\n",
    "\n",
    "- [PublicServices](#publicservices)\n",
    "    - [Retrieve all Public Services](#retrieve-all-public-services)\n"
   ]
  },
  {
   "cell_type": "markdown",
   "metadata": {},
   "source": [
    "-------------------------\n",
    "\n",
    "# Introduction "
   ]
  },
  {
   "cell_type": "markdown",
   "metadata": {},
   "source": [
    "This notebook demonstrates how to interact with the I14Y Public API.\n",
    "\n",
    "To switch from production (PROD) to test (ABN), the only change you need to make is updating the URL. The base URL for the Abnhame test environment is: https://api-a.i14y.admin.ch/api/public/v1/. In production, the base URL is: https://api.i14y.admin.ch/api/public/v1/ (just remove the \"-a\" from the test environment URL). The API functionalities and how they work in the Abnhame environment are identical to those in the production environment.\n",
    "\n",
    "The APIs are divided into three categories: Catalogs, Concepts, PublicServices. For each API, they will be given a description, the Endpoint URL, the method used, the parameters, the possible status codes, the use case and an example of a request with a python script. \n",
    "\n",
    "In order to run the python script it's necessary to install the HTTP client library <code> [\"requests\"](https://requests.readthedocs.io/en/latest/user/quickstart/)</code>.\n"
   ]
  },
  {
   "cell_type": "code",
   "execution_count": 1,
   "metadata": {},
   "outputs": [
    {
     "name": "stdout",
     "output_type": "stream",
     "text": [
      "Requirement already satisfied: requests in c:\\program files\\python39\\lib\\site-packages (2.26.0)\n",
      "Requirement already satisfied: idna<4,>=2.5 in c:\\program files\\python39\\lib\\site-packages (from requests) (3.2)\n",
      "Requirement already satisfied: certifi>=2017.4.17 in c:\\program files\\python39\\lib\\site-packages (from requests) (2024.8.30)\n",
      "Requirement already satisfied: charset-normalizer~=2.0.0 in c:\\program files\\python39\\lib\\site-packages (from requests) (2.0.4)\n",
      "Requirement already satisfied: urllib3<1.27,>=1.21.1 in c:\\program files\\python39\\lib\\site-packages (from requests) (1.26.6)\n",
      "Note: you may need to restart the kernel to use updated packages.\n"
     ]
    }
   ],
   "source": [
    "%pip install requests"
   ]
  },
  {
   "cell_type": "code",
   "execution_count": 2,
   "metadata": {},
   "outputs": [],
   "source": [
    "#Import\n",
    "\n",
    "import requests as r \n",
    "import json\n",
    "import urllib3\n",
    " \n",
    "# Remove warnings due to insecure requests\n",
    "urllib3.disable_warnings(urllib3.exceptions.InsecureRequestWarning)"
   ]
  },
  {
   "cell_type": "markdown",
   "metadata": {},
   "source": [
    "-------------------------\n"
   ]
  },
  {
   "cell_type": "markdown",
   "metadata": {},
   "source": [
    "# Catalogs \n",
    "\n",
    "## 1. Retrieve catalog by catalog id in RDF format\n",
    "\n",
    "**Endpoint URL**: `/api/catalogs/{catalogId}/dcat/exports/rdf`\n",
    "\n",
    "**Method**: `GET`\n",
    "\n",
    "**Parameters**:\n",
    "\n",
    "- `catalogId` (required): The catalog id \n",
    "\n",
    "**Status Codes:**\n",
    "\n",
    "- 200 OK: The request was successful.\n",
    "- Otherwise an error message is displayed. \n",
    "\n",
    "**Use case**: One needs to retrieve the catalog by catalog Id in RDF format.  \n",
    "\n",
    "**Request Example**:"
   ]
  },
  {
   "cell_type": "code",
   "execution_count": 3,
   "metadata": {},
   "outputs": [
    {
     "name": "stdout",
     "output_type": "stream",
     "text": [
      "Response: 200\n",
      "<?xml version=\"1.0\" ?>\n",
      "<!DOCTYPE RDF [\n",
      "\t<!ENTITY rdf 'http://www.w3.org/1999/02/22-rdf-syntax-ns#'>\n",
      "\t<!ENTITY rdfs 'http://www.w3.org/2000/01/rdf-schema#'>\n",
      "\t<!ENTITY xsd 'http://www.w3.org/2001/XMLSchema#'>\n",
      "\t<!ENTITY dcat 'http://www.w3.org/ns/dcat#'>\n",
      "\t<!ENTITY vcard 'http://www.w3.org/2006/vcard/ns#'>\n",
      "\t<!ENTITY dct 'http://purl.org/dc/terms/'>\n",
      "\t<!ENTITY foaf 'http://xmlns.com/foaf/0.1/'>\n",
      "\t<!ENTITY spdx 'http://spdx.org/rdf/terms#'>\n",
      "\t<!ENTITY dcatap 'http://data.europa.eu/r5r/'>\n",
      "\t<!ENTITY schema 'http://schema.org/'>\n",
      "]>\n",
      "<rdf:RDF xmlns:rdfs=\"http://www.w3.org/2000/01/rdf-schema#\" xmlns:xsd=\"http://www.w3.org/2001/XMLSchema#\" xmlns:dcat=\"http://www.w3.org/ns/dcat#\" xmlns:vcard=\"http://www.w3.org/2006/vcard/ns#\" xmlns:dct=\"http://purl.org/dc/terms/\" xmlns:foaf=\"http://xmlns.com/foaf/0.1/\" xmlns:spdx=\"http://spdx.org/rdf/terms#\" xmlns:dcatap=\"http://data.europa.eu/r5r/\" xmlns:schema=\"http://schema.org/\" xmlns:rdf=\"http://www.w3.org/1999/02/22-rdf-syntax-ns#\" xml:base=\"https://i14y.admin.ch/resources/dcat/catalogs/b201a2be-5de9-4d7d-9bea-63e719048ef8\"/>\n",
      "\n"
     ]
    }
   ],
   "source": [
    "import xml.dom.minidom\n",
    "\n",
    "catalog_id = \"b201a2be-5de9-4d7d-9bea-63e719048ef8\" #Use the right catalog Id here\n",
    "url = f\"https://api.i14y.admin.ch/api/public/v1/catalogs/{catalog_id}/dcat/exports/rdf\"\n",
    "\n",
    "response = r.get(url, verify = False)\n",
    "\n",
    "print(f\"Response: {response.status_code}\")\n",
    "\n",
    "\n",
    "# Print the response in a readable way\n",
    "if response.status_code == 200:\n",
    "    xml_content = xml.dom.minidom.parseString(response.content)\n",
    "    pretty_xml_as_string = xml_content.toprettyxml(indent=\"  \")  \n",
    "    print(pretty_xml_as_string) \n",
    "    \n",
    "    # If needed save the pretty-printed RDF to a file\n",
    "    \n",
    "    # with open(\"catalog_data.rdf\", \"w\", encoding=\"utf-8\") as rdf_file:\n",
    "    #    rdf_file.write(pretty_xml_as_string)\n",
    "else:\n",
    "    print(\"Failed to retrieve the data.\")\n",
    "\n",
    "# print(response.content) #prints the rdf response in one block\n",
    "    "
   ]
  },
  {
   "cell_type": "markdown",
   "metadata": {},
   "source": [
    "## 2. Retrieve DCAT catalog by catalog id in TTL format\n",
    "\n",
    "**Endpoint URL**: `/api/catalogs/{catalogId}/dcat/exports/ttl`\n",
    "\n",
    "**Method**: `GET`\n",
    "\n",
    "**Parameters**:\n",
    "- `catalogId` (required): The catalog id \n",
    "\n",
    "**Status Codes:**\n",
    "\n",
    "- 200 OK: The request was successful.\n",
    "- Otherwise an error message is displayed. \n",
    "\n",
    "**Use case**: One needs to retrieve the catalog by catalog Id in TTL format.\n",
    "\n",
    "**Request Example**:"
   ]
  },
  {
   "cell_type": "code",
   "execution_count": 4,
   "metadata": {},
   "outputs": [
    {
     "name": "stdout",
     "output_type": "stream",
     "text": [
      "Response: 200\n",
      "@base <https://i14y.admin.ch/resources/dcat/catalogs/b201a2be-5de9-4d7d-9bea-63e719048ef8>.\n",
      "\n",
      "@prefix rdf: <http://www.w3.org/1999/02/22-rdf-syntax-ns#>.\n",
      "@prefix rdfs: <http://www.w3.org/2000/01/rdf-schema#>.\n",
      "@prefix xsd: <http://www.w3.org/2001/XMLSchema#>.\n",
      "@prefix dcat: <http://www.w3.org/ns/dcat#>.\n",
      "@prefix vcard: <http://www.w3.org/2006/vcard/ns#>.\n",
      "@prefix dct: <http://purl.org/dc/terms/>.\n",
      "@prefix foaf: <http://xmlns.com/foaf/0.1/>.\n",
      "@prefix spdx: <http://spdx.org/rdf/terms#>.\n",
      "@prefix dcatap: <http://data.europa.eu/r5r/>.\n",
      "@prefix schema: <http://schema.org/>.\n",
      "\n",
      "\n"
     ]
    }
   ],
   "source": [
    "catalog_id = \"b201a2be-5de9-4d7d-9bea-63e719048ef8\" #Use the right catalog id here\n",
    "url = f\"https://api.i14y.admin.ch/api/public/v1/catalogs/{catalog_id}/dcat/exports/ttl\"\n",
    "\n",
    "response = r.get(url, verify = False)\n",
    "\n",
    "\n",
    "print(f\"Response: {response.status_code}\")\n",
    "\n",
    "# print(response.content) #prints the rdf response in one block\n",
    "\n",
    "# If successful, print the Turtle data in a readable way\n",
    "if response.status_code == 200:\n",
    "    ttl_content = response.content.decode(\"utf-8\")\n",
    "    print(ttl_content)\n",
    "\n",
    "    # If needed save the Turtle data to a file\n",
    "    \n",
    "    # with open(\"catalog_data.ttl\", \"w\", encoding=\"utf-8\") as ttl_file:\n",
    "    #    ttl_file.write(ttl_content)\n",
    "else:\n",
    "    print(\"Failed to retrieve the data.\")"
   ]
  },
  {
   "cell_type": "markdown",
   "metadata": {},
   "source": [
    "# Datasets \n",
    "\n",
    "*Note: The dataset Id can be derived from the I14Y web interface in the URL of the page dedicated to the specific concept: https://input.i14y.admin.ch/catalog/datasets/{datasetId}, for example: https://input.i14y.admin.ch/catalog/datasets/e68f2e20-a20b-4f96-846c-8f3a51e45527*\n",
    "\n",
    "## 1. Retrieve dataset by dataset id.\n",
    "\n",
    "**Endpoint URL**: `/datasets/{datasetId}`\n",
    "\n",
    "**Method**: `GET`\n",
    "\n",
    "**Parameters**:\n",
    "- `datasetId` (required): The dataset id  \n",
    "\n",
    "**Status Codes:**\n",
    "\n",
    "- 200 OK: The request was successful.\n",
    "- Otherwise an error message is displayed. \n",
    "\n",
    "**Use case**: The Local Data Steward needs to retrieve the dataset by the dataset Id. \n",
    "\n",
    "**Request Example**:"
   ]
  },
  {
   "cell_type": "code",
   "execution_count": null,
   "metadata": {},
   "outputs": [],
   "source": [
    "url= \"https://api.i14y.admin.ch/api/public/v1/datasets/\"\n",
    "\n",
    "dataset_id = 'e68f2e20-a20b-4f96-846c-8f3a51e45527' #state the right dataset id here \n",
    "\n",
    "response = r.get(url + dataset_id, verify = False)\n",
    "\n",
    "print(response)\n",
    "\n",
    "print(f\"Response: {response.status_code}\")\n",
    "\n",
    "# If you need to save the JSON to a file\n",
    "\n",
    "# json_content = response.json()\n",
    "# with open(\"dataset_data.json\", \"w\") as json_file:\n",
    "#        json.dump(json_content, json_file, indent=4)  # write the JSON with indentation for readability"
   ]
  },
  {
   "cell_type": "markdown",
   "metadata": {},
   "source": [
    "## 2. Retrieve datasets matching given filters\n",
    "\n",
    "**Endpoint URL**: `/datasets`\n",
    "\n",
    "**Method**: `GET`\n",
    "\n",
    "**Parameters**:\n",
    "\n",
    "- `accessRights` (optional): Code from the [access rights vocabulary](https://www.i14y.admin.ch/catalog/concepts/08d9a901-e207-567d-a869-0aacd87842c2/description). [string]\n",
    "- `datasetIdentifier` (optional): The Dataset Identifier [string]\n",
    "- `pubisherIdentifier` (optional): The Publisher identifier [string]\n",
    "- `pubblicationLevel` (optional): Available values : Public [string]\n",
    "- `registrationStatus` (optional): Available values : Incomplete, Candidate, Recorded, Qualified, Standard, PreferredStandard, Superseded, Retired [string]\n",
    "- `page` (optional): Page number (Default value: 1) [integer]\n",
    "- `pageSize` (optional): Max number of results per page (Default value: 25) [integer]\n",
    "\n",
    "**Status Codes:**\n",
    "\n",
    "- 200 OK: the request was sucessfull\n",
    "- Otherwise an error message is displayed. \n",
    "\n",
    "**Use case**: You need to retrieve datasets matching specific filters. \n",
    "\n",
    "**Request Examples**:"
   ]
  },
  {
   "cell_type": "code",
   "execution_count": null,
   "metadata": {},
   "outputs": [],
   "source": [
    "url = f\"https://api.i14y.admin.ch/api/public/v1/datasets\"\n",
    "params = {\n",
    "    'publicationLevel': 'Public',\n",
    "    'registrationStatus': 'Qualified', \n",
    "    'page': 1,\n",
    "    'pageSize': 100  \n",
    "        }\n",
    "\n",
    "response = r.get(url,params = params, verify = False)\n",
    "\n",
    "print(f\"Response: {response.status_code}\")\n",
    "print(response.content)"
   ]
  },
  {
   "cell_type": "markdown",
   "metadata": {},
   "source": [
    "## 3. Retrieve the structure of the dataset in different formats\n",
    "\n",
    "**Endpoint URL**: `/datasets/{datasetId}/structures/exports/{format}`\n",
    "\n",
    "**Method**: `GET`\n",
    "\n",
    "**Parameters**:\n",
    "\n",
    "- `datasetId` (mandatory): the id of the dataset. [string]\n",
    "- `format` (mandatory): Available values : Ttl, Rdf, JsonLd [string]\n",
    "\n",
    "**Status Codes:**\n",
    "\n",
    "- 200 OK: the request was sucessfull\n",
    "- Otherwise an error message is displayed. \n",
    "\n",
    "**Use case**: You need to retrieve the strcuture of a specific datasets. \n",
    "\n",
    "**Request Examples**:"
   ]
  },
  {
   "cell_type": "code",
   "execution_count": null,
   "metadata": {},
   "outputs": [],
   "source": [
    "datasetId = \"\" #state the right id here \n",
    "\n",
    "format = \"Ttl\"  # Requesting Turtle format\n",
    "url = f\"https://api.i14y.admin.ch/api/public/v1/datasets/{datasetId}/structures/exports/{format}\"\n",
    "\n",
    "\n",
    "try:\n",
    "    response = requests.get(url, verify=False) \n",
    "    \n",
    "    print(f\"Response Status: {response.status_code}\")\n",
    "    \n",
    "    if response.status_code == 200:\n",
    "        print(\"Successfully retrieved dataset structure in Turtle format:\")\n",
    "    else:\n",
    "        print(f\"Error: {response.text}\")\n",
    "\n",
    "except requests.exceptions.RequestException as e:\n",
    "    print(f\"Request failed: {e}\")"
   ]
  },
  {
   "cell_type": "markdown",
   "metadata": {},
   "source": [
    "\n",
    "\n",
    "# Concepts"
   ]
  },
  {
   "cell_type": "markdown",
   "metadata": {},
   "source": [
    "*Note: The concept Id can be derived from the I14Y web interface in the URL of the page dedicated to the specific concept: https://input.i14y-a.admin.ch/concepts/{conceptId}, for example: https://input.i14y-a.admin.ch/concepts/08db5130-b260-1607-88a9-8e013ffb44ea*"
   ]
  },
  {
   "cell_type": "markdown",
   "metadata": {},
   "source": [
    "## 1. Retrieve Concept by id with the possibility to retrieve the CodeList entries\n",
    "\n",
    "**Endpoint URL**: `/api/concepts/{conceptId}`\n",
    "\n",
    "**Method**: `GET`\n",
    "\n",
    "**Parameters**:\n",
    "- `conceptId` (required): The concept id  \n",
    "- `includeCodeListEntries` (optional): Boolean, valid only for concepts of the type CodeList\n",
    "\n",
    "\n",
    "**Status Codes:**\n",
    "\n",
    "- 200 OK: The request was successful.\n",
    "- Otherwise an error message is displayed. \n",
    "\n",
    "**Use case**: One needs to retrieve the concept by the Concept Id. \n",
    "\n",
    "**Request Example**:"
   ]
  },
  {
   "cell_type": "code",
   "execution_count": 5,
   "metadata": {},
   "outputs": [
    {
     "name": "stdout",
     "output_type": "stream",
     "text": [
      "<Response [200]>\n",
      "Response: 200\n"
     ]
    }
   ],
   "source": [
    "#Including code list entries \n",
    "\n",
    "url= \"https://api.i14y.admin.ch/api/public/v1/concepts/\"\n",
    "\n",
    "concept_id = '08dc0def-b1f8-220a-8737-6c46ce923cf5' #state the right concept id here \n",
    "\n",
    "params = {'includeCodeListEntries': 'True'}\n",
    "\n",
    "response = r.get(url + concept_id, params=params, verify = False)\n",
    "\n",
    "print(response)\n",
    "\n",
    "print(f\"Response: {response.status_code}\")\n",
    "\n",
    "# If you need to save the JSON to a file\n",
    "\n",
    "# json_content = response.json()\n",
    "# with open(\"concept_data.json\", \"w\") as json_file:\n",
    "#        json.dump(json_content, json_file, indent=4)  # write the JSON with indentation for readability"
   ]
  },
  {
   "cell_type": "code",
   "execution_count": 6,
   "metadata": {},
   "outputs": [
    {
     "name": "stdout",
     "output_type": "stream",
     "text": [
      "<Response [200]>\n",
      "Response: 200\n"
     ]
    }
   ],
   "source": [
    "#Excluding code list entries \n",
    "\n",
    "url= 'https://api.i14y.admin.ch/api/public/v1/concepts/'\n",
    "\n",
    "concept_id = '08dc0def-b1f8-220a-8737-6c46ce923cf5' #state the right concept id here \n",
    "\n",
    "params = {'includeCodeListEntries': 'False'}\n",
    "\n",
    "response = r.get(url + concept_id, params=params, verify = False)\n",
    "\n",
    "print(response)\n",
    "\n",
    "print(f\"Response: {response.status_code}\")"
   ]
  },
  {
   "cell_type": "code",
   "execution_count": 7,
   "metadata": {},
   "outputs": [
    {
     "name": "stdout",
     "output_type": "stream",
     "text": [
      "Code value: T, Name: Ja\n",
      "Code value: F, Name: Nein\n",
      "Code value: l, Name: leer\n"
     ]
    }
   ],
   "source": [
    "#Example where the result prints only the code value and the name of each entry\n",
    "\n",
    "url = 'https://api.i14y.admin.ch/api/public/v1/concepts/'\n",
    "concept_id = '08dc0def-b1f8-220a-8737-6c46ce923cf5' #state the right concept id here \n",
    "params = {'includeCodeListEntries': 'True'} \n",
    "\n",
    "response = r.get(url + concept_id, params=params, verify=False)\n",
    "\n",
    "if response.status_code == 200:\n",
    "    data = json.loads(response.content)\n",
    "    \n",
    "    # Extract the codeListEntries\n",
    "    code_list_entries = data['data'].get('codeListEntries', [])\n",
    "    \n",
    "    # Print only the code and name for each entry\n",
    "    for entry in code_list_entries:\n",
    "        code = entry.get('code', 'N/A')\n",
    "        name = entry.get('name', {}).get('de', 'N/A')  # Assuming 'de' is the required language\n",
    "        print(f\"Code value: {code}, Name: {name}\")\n",
    "else:\n",
    "    print(f\"Failed to get data, status code: {response.status_code}\")\n"
   ]
  },
  {
   "cell_type": "markdown",
   "metadata": {},
   "source": [
    "## 2. Retrieve concept in JSON format by concept id\n",
    "\n",
    "**Endpoint URL**: `/api/concepts/{conceptId}/exports/json`\n",
    "\n",
    "**Method**: `GET`\n",
    "\n",
    "**Parameters**:\n",
    "\n",
    "- `conceptId` (required): The Concept Id\n",
    "\n",
    "\n",
    "**Status Codes:**\n",
    "\n",
    "- 200 OK: the request was sucessfull\n",
    "\n",
    "- Otherwise an error message is displayed. \n",
    "\n",
    "**Use case**: One needs to retrieve the concept by the Concept Id in JSON format.\n",
    "\n",
    "**Request Examples**:"
   ]
  },
  {
   "cell_type": "code",
   "execution_count": 8,
   "metadata": {},
   "outputs": [
    {
     "name": "stdout",
     "output_type": "stream",
     "text": [
      "Response: 200\n",
      "{'data': {'codeListEntries': [{'annotations': [], 'code': 'T', 'description': {'de': 'Anhängevorrichtung vorhanden, dieser Wert wird bei manchen Schnittstellen als \"J\" zurückgegeben.'}, 'name': {'de': 'Ja', 'en': 'Yes', 'fr': 'Oui', 'it': 'Si'}}, {'annotations': [], 'code': 'F', 'description': {'de': 'Keine Anhängevorrichtung vorhanden, dieser Wert wird bei manchen Schnittstellen ohne Wert zurückgegeben.'}, 'name': {'de': 'Nein', 'en': 'No', 'fr': 'Non', 'it': 'No'}}, {'annotations': [], 'code': 'l', 'description': {'de': 'Keine Anhängevorrichtung vorhanden oder unbekannt, dieser Wert wird ohne Wert zurückgegeben.'}, 'name': {'de': 'leer', 'en': 'blank', 'fr': 'vide', 'it': 'vuoto'}}], 'codeListEntryValueMaxLength': 1, 'codeListEntryValueType': 'String', 'conceptType': 'CodeList', 'conformsTo': [{'label': {'de': 'Verordnung über die technischen Anforderungen an Strassenfahrzeuge (VTS)', 'fr': 'Ordonnance concernant les exigences techniques requises pour les véhicules routiers (OETV)', 'it': 'Ordinanza concernente le esigenze tecniche per i veicoli stradali (OETV)'}, 'uri': 'https://www.fedlex.admin.ch/eli/cc/1995/4425_4425_4425/de#art_91'}], 'description': {'de': 'Angabe dazu, ob bei einem Fahrzeug eine Anhängevorrichtung (Anhängerkupplung) vorhanden ist. ', 'en': 'Indicates whether a vehicle is equipped with a trailer hitch (tow coupling).', 'fr': \"Indique si un véhicule est équipé d'un dispositif d'attelage (crochet d'attelage).\", 'it': 'Indica se il veicolo è dotato di un gancio di traino (aggancio del rimorchio).'}, 'id': '08dc0def-b1f8-220a-8737-6c46ce923cf5', 'identifier': 'ANHVO', 'isLocked': True, 'keywords': [{'de': 'Leistungsabhängige Schwerverkehrsabgabe (LSVA)', 'en': 'Distance-related heavy vehicle fee (HVF)', 'fr': 'Redevance poids lourds liée aux prestations (RPLP)', 'it': 'Tassa sul traffico pesante commisurata alle prestazioni (TTPCP)'}, {'de': 'Personenverkehr', 'en': 'Passenger transport', 'fr': 'Transport de personnes', 'it': 'Trasporto persone'}, {'de': 'Transportmotorwagen', 'en': 'Transport motorised trolley', 'fr': 'Voitures automobiles de transport', 'it': 'Autoveicoli di trasporto'}, {'de': 'Informationssystem Verkehrszulassung (IVZ)', 'en': 'Traffic Licence Information System (IVZ)', 'fr': 'Système d’information relatif à l’admission à la circulation (SIAC)', 'it': 'Sistema d’informazione sull’ammissione alla circolazione (SIAC)'}, {'de': 'Verbindungseinrichtungen', 'en': 'Connection equipment', 'fr': 'Dispositifs d’attelage', 'it': 'Dispositivi di agganciamento'}, {'de': 'Strassenfahrzeuge', 'en': 'Road vehicles', 'fr': 'Véhicules routiers', 'it': 'Veicoli stradali'}, {'de': 'Güterverkehr', 'en': 'Goods transport', 'fr': 'Transport de marchandises', 'it': 'Trasporto merci'}], 'name': {'de': 'Anhängevorrichtung', 'en': 'Tow coupling', 'fr': 'Dispositif d’attelage', 'it': 'Dispositivo d’aggancio rimorchio'}, 'publicationLevel': 'Public', 'publisher': {'identifier': 'CH_ASTRA', 'name': {'de': 'Bundesamt für Strassen', 'en': 'Federal Roads Office', 'fr': 'Office fédéral des routes', 'it': 'Ufficio federale delle strade'}}, 'registrationStatus': 'Recorded', 'themes': [{'code': '116', 'name': {'de': 'Mobilität', 'en': 'Mobility', 'fr': 'Mobilité', 'it': 'Mobilità'}, 'uri': ''}], 'validFrom': '2018-03-31', 'version': '1.0.0'}}\n"
     ]
    }
   ],
   "source": [
    "conceptId = \"08dc0def-b1f8-220a-8737-6c46ce923cf5\" #state the right concept id here \n",
    "url = f\"https://api.i14y.admin.ch/api/public/v1/concepts/{conceptId}/exports/json\"\n",
    "\n",
    "response = r.get(url, verify = False)\n",
    "\n",
    "print(f\"Response: {response.status_code}\")\n",
    "\n",
    "print(response.json())\n",
    "\n",
    "# If you need to save the JSON to a file\n",
    "\n",
    "# json_content = response.json()\n",
    "# with open(\"concept_data.json\", \"w\") as json_file:\n",
    "#        json.dump(json_content, json_file, indent=4)  # write the JSON with indentation for readability"
   ]
  },
  {
   "cell_type": "markdown",
   "metadata": {},
   "source": [
    "## 3. Retrieve code list entries from a concept of the type CodeList by the concept Id\n",
    "\n",
    "**Endpoint URL**: `/api/concepts/{conceptId}/codelist-entries/exports/json`\n",
    "\n",
    "**Method**: `GET`\n",
    "\n",
    "**Parameters**:\n",
    "\n",
    "- `conceptId` (required): The Concept Id\n",
    "\n",
    "\n",
    "**Status Codes:**\n",
    "\n",
    "- 200 OK: the request was sucessfull\n",
    "\n",
    "- Otherwise an error message is displayed. \n",
    "\n",
    "**Use case**: One needs to retrieve the code list entries from a concept of the type CodeList by the concept Id. \n",
    "\n",
    "**Request Examples**:"
   ]
  },
  {
   "cell_type": "code",
   "execution_count": 9,
   "metadata": {},
   "outputs": [
    {
     "name": "stdout",
     "output_type": "stream",
     "text": [
      "Code: T, Name: Ja, Annotations: []\n",
      "Code: F, Name: Nein, Annotations: []\n",
      "Code: l, Name: leer, Annotations: []\n"
     ]
    }
   ],
   "source": [
    "conceptId = \"08dc0def-b1f8-220a-8737-6c46ce923cf5\" #state the right concept id here \n",
    "\n",
    "url = f\"https://api.i14y.admin.ch/api/public/v1/concepts/{conceptId}/codelist-entries/exports/json\"\n",
    "\n",
    "response = r.get(url, verify = False)\n",
    "\n",
    "if response.status_code == 200:\n",
    "    data = json.loads(response.content)\n",
    "    \n",
    "    # Extract the codeListEntries\n",
    "    code_list_entries = data.get('data', [])\n",
    "    \n",
    "    # Print code, name, and annotations for each entry\n",
    "    for entry in code_list_entries:\n",
    "        code = entry.get('code', 'N/A')\n",
    "        name = entry.get('name', {}).get('de', 'N/A')  # Assuming 'de' is the required language\n",
    "        annotations = entry.get('annotations', [])  # Get annotations (in this case there are not annotations, so it prints an empty list)\n",
    "        \n",
    "        print(f\"Code: {code}, Name: {name}, Annotations: {annotations}\")\n",
    "else:\n",
    "    print(f\"Failed to get data, status code: {response.status_code}\")\n",
    "\n",
    "# If you need to save the JSON to a file\n",
    "\n",
    "# json_content = response.json()\n",
    "# with open(\"concept_data.json\", \"w\") as json_file:\n",
    "#        json.dump(json_content, json_file, indent=4)  # write the JSON with indentation for readability"
   ]
  },
  {
   "cell_type": "markdown",
   "metadata": {},
   "source": [
    "## 4. Retrieve the code list entries from a concept of type CodeList by the concept Id in CSV format\n",
    "\n",
    "**Endpoint URL**: `/api/concepts/{conceptId}/codelist-entries/exports/json`\n",
    "\n",
    "**Method**: `GET`\n",
    "\n",
    "**Parameters**:\n",
    "\n",
    "- `conceptId` (required): The Concept Id\n",
    "\n",
    "\n",
    "**Status Codes:**\n",
    "\n",
    "- 200 OK: the request was sucessfull\n",
    "- Otherwise an error message is displayed. \n",
    "\n",
    "**Use case**: One needs to retrieve the code list entries from a concept of type CodeList by the concept Id in CSV format\n",
    "\n",
    "**Request Examples**:"
   ]
  },
  {
   "cell_type": "code",
   "execution_count": 10,
   "metadata": {},
   "outputs": [
    {
     "name": "stdout",
     "output_type": "stream",
     "text": [
      "Response: 200\n",
      "b'Code,ParentCode,Name_de,Name_fr,Name_it,Name_rm,Name_en,Description_de,Description_fr,Description_it,Description_rm,Description_en\\r\\n\"T\",,\"Ja\",\"Oui\",\"Si\",,\"Yes\",\"Anh\\xc3\\xa4ngevorrichtung vorhanden, dieser Wert wird bei manchen Schnittstellen als \"\"J\"\" zur\\xc3\\xbcckgegeben.\",,,,\\r\\n\"F\",,\"Nein\",\"Non\",\"No\",,\"No\",\"Keine Anh\\xc3\\xa4ngevorrichtung vorhanden, dieser Wert wird bei manchen Schnittstellen ohne Wert zur\\xc3\\xbcckgegeben.\",,,,\\r\\n\"l\",,\"leer\",\"vide\",\"vuoto\",,\"blank\",\"Keine Anh\\xc3\\xa4ngevorrichtung vorhanden oder unbekannt, dieser Wert wird ohne Wert zur\\xc3\\xbcckgegeben.\",,,,\\r\\n'\n"
     ]
    }
   ],
   "source": [
    "conceptId = \"08dc0def-b1f8-220a-8737-6c46ce923cf5\" #state the right concept id here \n",
    "\n",
    "url = f\"https://api.i14y.admin.ch/api/public/v1/concepts/{conceptId}/codelist-entries/exports/csv\"\n",
    "\n",
    "response = r.get(url, verify = False)\n",
    "\n",
    "print(f\"Response: {response.status_code}\")\n",
    "print(response.content)\n",
    "\n",
    "#If you need to save the CSV content to a file \n",
    "\n",
    "#csv_content = response.content.decode(\"utf-8\") \n",
    "#with open(\"codelist_entries.csv\", \"w\", encoding=\"utf-8\") as csv_file:\n",
    "#        csv_file.write(csv_content)"
   ]
  },
  {
   "cell_type": "markdown",
   "metadata": {},
   "source": [
    "## 5. Retrieve all Concepts matching the given filters\n",
    "\n",
    "**Endpoint URL**: `/concepts`\n",
    "\n",
    "**Method**: `GET`\n",
    "\n",
    "**Parameters**:\n",
    "\n",
    "- `conceptIdentifier` (optional): The Concept Identifier [string]\n",
    "- `pubisherIdentifier` (optional): The Publisher identifier [string]\n",
    "- `version` (optional): The Concept Version [String]\n",
    "- `pubblicationLevel` (optional): Available values : Public [string]\n",
    "- `registrationStatus` (optional): Available values : Incomplete, Candidate, Recorded, Qualified, Standard, PreferredStandard, Superseded, Retired [string]\n",
    "- `page` (optional): Page number (Default value: 1) [integer]\n",
    "- `pageSize` (optional): Max number of results per page (Default value: 25) [integer]\n",
    "\n",
    "**Status Codes:**\n",
    "\n",
    "- 200 OK: the request was sucessfull\n",
    "- Otherwise an error message is displayed. \n",
    "\n",
    "**Use case**: You need to retrieve concepts matching specific filters. \n",
    "\n",
    "**Request Examples**:"
   ]
  },
  {
   "cell_type": "code",
   "execution_count": null,
   "metadata": {},
   "outputs": [],
   "source": [
    "conceptId = \"08dc0def-b1f8-220a-8737-6c46ce923cf5\" #state the right concept id here \n",
    "\n",
    "url = f\"https://api.i14y.admin.ch/api/public/v1/concepts\"\n",
    "params = {\n",
    "    'publicationLevel': 'Public',\n",
    "    'registrationStatus':'PreferredStandard', \n",
    "    'pageSize': 100  \n",
    "        }\n",
    "\n",
    "response = r.get(url, params = params, verify = False)\n",
    "\n",
    "print(f\"Response: {response.status_code}\")\n",
    "print(response.content)\n"
   ]
  },
  {
   "cell_type": "markdown",
   "metadata": {},
   "source": [
    "# PublicServices"
   ]
  },
  {
   "cell_type": "markdown",
   "metadata": {},
   "source": [
    "## 1. Retrieve all Public Services\n",
    "\n",
    "**Endpoint URL**: `/api/publicservices/exports/json`\n",
    "\n",
    "**Method**: `GET`\n",
    "\n",
    "**Parameters**:\n",
    "\n",
    "No parameters\n",
    "\n",
    "\n",
    "**Status Codes:**\n",
    "\n",
    "- 200 OK: the request was sucessfull\n",
    "\n",
    "**Use case**: One needs to retrieve all Public Services. \n",
    "\n",
    "**Request Examples**:"
   ]
  },
  {
   "cell_type": "code",
   "execution_count": 15,
   "metadata": {},
   "outputs": [
    {
     "name": "stdout",
     "output_type": "stream",
     "text": [
      "<Response [200]>\n"
     ]
    }
   ],
   "source": [
    "url = \"https://api.i14y.admin.ch/api/public/v1/publicservices/exports/json\"\n",
    "\n",
    "response = r.get(url, verify = False)\n",
    "\n",
    "print(response)\n",
    "\n",
    "# If you need to save the JSON to a file\n",
    "\n",
    "# json_content = response.json()\n",
    "# with open(\"publicservices_data.json\", \"w\") as json_file:\n",
    "#        json.dump(json_content, json_file, indent=4)  # write the JSON with indentation for readability"
   ]
  }
 ],
 "metadata": {
  "kernelspec": {
   "display_name": "Python 3.9.7 ('base')",
   "language": "python",
   "name": "python3"
  },
  "language_info": {
   "codemirror_mode": {
    "name": "ipython",
    "version": 3
   },
   "file_extension": ".py",
   "mimetype": "text/x-python",
   "name": "python",
   "nbconvert_exporter": "python",
   "pygments_lexer": "ipython3",
   "version": "3.9.7"
  },
  "orig_nbformat": 4,
  "vscode": {
   "interpreter": {
    "hash": "94b3a81435acc63bd930e86da5e2eb338d56cfc6e722049d2fbed8b8fefbb3de"
   }
  }
 },
 "nbformat": 4,
 "nbformat_minor": 2
}
