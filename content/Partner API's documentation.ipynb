{
 "cells": [
  {
   "cell_type": "markdown",
   "metadata": {},
   "source": [
    "# Partner - API's documentation\n",
    "\n",
    "-------------------------"
   ]
  },
  {
   "cell_type": "markdown",
   "metadata": {},
   "source": [
    "# Summary of content\n",
    "\n",
    "Introduction\n",
    "\n",
    "Catalogs \n",
    "\n",
    " 1. Retrieve catalog by catalog id in RDF format\n",
    " 2. Retrieve DCAT catalog by catalog id in TTL format\n",
    "\n",
    "Concepts\n",
    "\n",
    "1. Retrieve Concept by id with the possibility to retrieve the CodeList entries\n",
    "2. Retrieve concept in JSON format by concept id\n",
    "3. Retrieve the code list entries from a concept of the type CodeList by the concept Id\n",
    "4. Retrieve the code list entries from a concept of type CodeList by the concept Id in CSV format\n",
    "5. Create a new CodeList, Date, Numeric or String concept \n",
    "6. Import concept codelist entries by concept Id in JSON format\n",
    "7.  Import concept codelist entries by concept Id in CSV format\n",
    "8. Set the publication level proposal of the concept by id\n",
    "9. Set the registration status proposal of the concept with the specified id\n",
    "10. Set the registration status of the concept with the specified id\n",
    "11. Delete all code list entries by concept id\n",
    "\n",
    "PublicServices\n",
    "\n",
    "1. Retrieve all Public Services\n",
    "\n",
    "Specific use cases\n",
    "\n",
    "1. Use Case 1: Additions or changes in a Concept: creation of a new version\n",
    "2. Use Case 2: Additions or changes in a code list: delation of all entries and reupload of new corrected entries\n",
    "3. Use Case 3: Importing codelist values with Content-Type defined in headers"
   ]
  },
  {
   "cell_type": "markdown",
   "metadata": {},
   "source": [
    "-------------------------\n",
    "\n",
    "# Introduction "
   ]
  },
  {
   "cell_type": "markdown",
   "metadata": {},
   "source": [
    "This notebook demonstrates how to interact with the Production environment of I14Y.\n",
    "\n",
    "To switch from production to test, the only change you need to make is updating the URL. The base URL for the Abnhame test environment is: https://api-a.i14y.admin.ch/api/partner/v1/. In production, the base URL is: https://api.i14y.admin.ch/api/partner/v1/ (just remove the \"-a\" from the test environment URL). The API functionalities and how they work in the Abnhame environment are identical to those in the production environment.\n",
    "\n",
    "\n",
    "In the  first part the APIs are presented. The APIs are divided into three categories: Catalogs, Concepts, PublicServices. For each API, they will be given a description, the Endpoint URL, the method used, the parameters, the possible status codes, the use case and an example of a request with a python script. \n",
    "\n",
    "In order to run the python script it's necessary to install the HTTP client library <code> [\"requests\"](https://requests.readthedocs.io/en/latest/user/quickstart/)</code> and define the token and the headers (the token must be copied manually from I14Y web interface, it can be obtained as follows: Log in to https://input.i14y-a.admin.ch, click on the user symbol and then on “Copy access token”).\n",
    "\n",
    "In the second part some use cases are presented. "
   ]
  },
  {
   "cell_type": "code",
   "execution_count": 1,
   "metadata": {},
   "outputs": [
    {
     "name": "stdout",
     "output_type": "stream",
     "text": [
      "Requirement already satisfied: requests in c:\\program files\\python39\\lib\\site-packages (2.26.0)\n",
      "Requirement already satisfied: charset-normalizer~=2.0.0 in c:\\program files\\python39\\lib\\site-packages (from requests) (2.0.4)\n",
      "Requirement already satisfied: certifi>=2017.4.17 in c:\\program files\\python39\\lib\\site-packages (from requests) (2021.5.30)\n",
      "Requirement already satisfied: urllib3<1.27,>=1.21.1 in c:\\program files\\python39\\lib\\site-packages (from requests) (1.26.6)\n",
      "Requirement already satisfied: idna<4,>=2.5 in c:\\program files\\python39\\lib\\site-packages (from requests) (3.2)\n",
      "Note: you may need to restart the kernel to use updated packages.\n"
     ]
    }
   ],
   "source": [
    "%pip install requests"
   ]
  },
  {
   "cell_type": "code",
   "execution_count": 2,
   "metadata": {},
   "outputs": [],
   "source": [
    "#Import\n",
    "\n",
    "import requests as r \n",
    "import json\n",
    "import urllib3\n",
    " \n",
    "# Remove warnings due to insecure requests\n",
    "urllib3.disable_warnings(urllib3.exceptions.InsecureRequestWarning)"
   ]
  },
  {
   "cell_type": "code",
   "execution_count": null,
   "metadata": {},
   "outputs": [],
   "source": [
    "# The token must first be copied manually from I14Y\n",
    "\n",
    "token = \"\"\n",
    "headers = { 'Accept': '*/*', \n",
    "            'Authorization':  token\n",
    "        }"
   ]
  },
  {
   "cell_type": "markdown",
   "metadata": {},
   "source": [
    "-------------------------\n"
   ]
  },
  {
   "cell_type": "markdown",
   "metadata": {},
   "source": [
    "# Catalogs \n",
    "\n",
    "## 1. Retrieve catalog by catalog id in RDF format\n",
    "\n",
    "**Endpoint URL**: `/api/catalogs/{catalogId}/dcat/exports/rdf`\n",
    "\n",
    "**Method**: `GET`\n",
    "\n",
    "**Parameters**:\n",
    "\n",
    "- `catalogId` (required): The catalog id \n",
    "\n",
    "**Status Codes:**\n",
    "\n",
    "- 200 OK: The request was successful.\n",
    "- Otherwise an error message is displayed. \n",
    "\n",
    "**Use case**: The Local Data Steward needs to retrieve the catalog by catalog Id in RDF format.  \n",
    "\n",
    "**Request Example**:"
   ]
  },
  {
   "cell_type": "code",
   "execution_count": 11,
   "metadata": {},
   "outputs": [
    {
     "name": "stdout",
     "output_type": "stream",
     "text": [
      "Response: 200\n",
      "<?xml version=\"1.0\" ?>\n",
      "<!DOCTYPE RDF [\n",
      "\t<!ENTITY rdf 'http://www.w3.org/1999/02/22-rdf-syntax-ns#'>\n",
      "\t<!ENTITY rdfs 'http://www.w3.org/2000/01/rdf-schema#'>\n",
      "\t<!ENTITY xsd 'http://www.w3.org/2001/XMLSchema#'>\n",
      "\t<!ENTITY dcat 'http://www.w3.org/ns/dcat#'>\n",
      "\t<!ENTITY vcard 'http://www.w3.org/2006/vcard/ns#'>\n",
      "\t<!ENTITY dct 'http://purl.org/dc/terms/'>\n",
      "\t<!ENTITY foaf 'http://xmlns.com/foaf/0.1/'>\n",
      "\t<!ENTITY spdx 'http://spdx.org/rdf/terms#'>\n",
      "\t<!ENTITY dcatap 'http://data.europa.eu/r5r/'>\n",
      "\t<!ENTITY schema 'http://schema.org/'>\n",
      "]>\n",
      "<rdf:RDF xmlns:rdfs=\"http://www.w3.org/2000/01/rdf-schema#\" xmlns:xsd=\"http://www.w3.org/2001/XMLSchema#\" xmlns:dcat=\"http://www.w3.org/ns/dcat#\" xmlns:vcard=\"http://www.w3.org/2006/vcard/ns#\" xmlns:dct=\"http://purl.org/dc/terms/\" xmlns:foaf=\"http://xmlns.com/foaf/0.1/\" xmlns:spdx=\"http://spdx.org/rdf/terms#\" xmlns:dcatap=\"http://data.europa.eu/r5r/\" xmlns:schema=\"http://schema.org/\" xmlns:rdf=\"http://www.w3.org/1999/02/22-rdf-syntax-ns#\" xml:base=\"https://i14y.admin.ch/resources/dcat/catalogs/b201a2be-5de9-4d7d-9bea-63e719048ef8\"/>\n",
      "\n"
     ]
    }
   ],
   "source": [
    "import xml.dom.minidom\n",
    "\n",
    "catalog_id = \"b201a2be-5de9-4d7d-9bea-63e719048ef8\" #Use the right catalog Id here\n",
    "url = f\"https://api.i14y.admin.ch/api/partner/v1/catalogs/{catalog_id}/dcat/exports/rdf\"\n",
    "\n",
    "response = r.get(url, headers = headers, verify = False)\n",
    "\n",
    "print(f\"Response: {response.status_code}\")\n",
    "\n",
    "\n",
    "# Print the response in a readable way\n",
    "if response.status_code == 200:\n",
    "    xml_content = xml.dom.minidom.parseString(response.content)\n",
    "    pretty_xml_as_string = xml_content.toprettyxml(indent=\"  \")  \n",
    "    print(pretty_xml_as_string) \n",
    "    \n",
    "    # If needed save the pretty-printed RDF to a file\n",
    "    \n",
    "    # with open(\"catalog_data.rdf\", \"w\", encoding=\"utf-8\") as rdf_file:\n",
    "    #    rdf_file.write(pretty_xml_as_string)\n",
    "else:\n",
    "    print(\"Failed to retrieve the data.\")\n",
    "\n",
    "# print(response.content) #prints the rdf response in one block\n",
    "    "
   ]
  },
  {
   "cell_type": "markdown",
   "metadata": {},
   "source": [
    "## 2. Retrieve DCAT catalog by catalog id in TTL format\n",
    "\n",
    "**Endpoint URL**: `/api/catalogs/{catalogId}/dcat/exports/ttl`\n",
    "\n",
    "**Method**: `GET`\n",
    "\n",
    "**Parameters**:\n",
    "- `catalogId` (required): The catalog id \n",
    "\n",
    "**Status Codes:**\n",
    "\n",
    "- 200 OK: The request was successful.\n",
    "- Otherwise an error message is displayed. \n",
    "\n",
    "**Use case**: The Local Data Steward needs to retrieve the catalog by catalog Id in TTL format.\n",
    "\n",
    "**Request Example**:"
   ]
  },
  {
   "cell_type": "code",
   "execution_count": 7,
   "metadata": {},
   "outputs": [
    {
     "name": "stdout",
     "output_type": "stream",
     "text": [
      "Response: 200\n",
      "@base <https://i14y.admin.ch/resources/dcat/catalogs/b201a2be-5de9-4d7d-9bea-63e719048ef8>.\n",
      "\n",
      "@prefix rdf: <http://www.w3.org/1999/02/22-rdf-syntax-ns#>.\n",
      "@prefix rdfs: <http://www.w3.org/2000/01/rdf-schema#>.\n",
      "@prefix xsd: <http://www.w3.org/2001/XMLSchema#>.\n",
      "@prefix dcat: <http://www.w3.org/ns/dcat#>.\n",
      "@prefix vcard: <http://www.w3.org/2006/vcard/ns#>.\n",
      "@prefix dct: <http://purl.org/dc/terms/>.\n",
      "@prefix foaf: <http://xmlns.com/foaf/0.1/>.\n",
      "@prefix spdx: <http://spdx.org/rdf/terms#>.\n",
      "@prefix dcatap: <http://data.europa.eu/r5r/>.\n",
      "@prefix schema: <http://schema.org/>.\n",
      "\n",
      "\n"
     ]
    }
   ],
   "source": [
    "catalog_id = \"b201a2be-5de9-4d7d-9bea-63e719048ef8\" #Use the right catalog id here\n",
    "url = f\"https://api.i14y.admin.ch/api/partner/v1/catalogs/{catalog_id}/dcat/exports/ttl\"\n",
    "\n",
    "response = r.get(url, headers = headers, verify = False)\n",
    "\n",
    "\n",
    "print(f\"Response: {response.status_code}\")\n",
    "\n",
    "# print(response.content) #prints the rdf response in one block\n",
    "\n",
    "# If successful, print the Turtle data in a readable way\n",
    "if response.status_code == 200:\n",
    "    ttl_content = response.content.decode(\"utf-8\")\n",
    "    print(ttl_content)\n",
    "\n",
    "    # If needed save the Turtle data to a file\n",
    "    \n",
    "    # with open(\"catalog_data.ttl\", \"w\", encoding=\"utf-8\") as ttl_file:\n",
    "    #    ttl_file.write(ttl_content)\n",
    "else:\n",
    "    print(\"Failed to retrieve the data.\")"
   ]
  },
  {
   "cell_type": "markdown",
   "metadata": {},
   "source": [
    "\n",
    "\n",
    "# Concepts"
   ]
  },
  {
   "cell_type": "markdown",
   "metadata": {},
   "source": [
    "*Note: The concept Id can be derived from the I14Y web interface in the URL of the page dedicated to the specific concept: https://input.i14y-a.admin.ch/concepts/{conceptId}, for example: https://input.i14y-a.admin.ch/concepts/08db5130-b260-1607-88a9-8e013ffb44ea*"
   ]
  },
  {
   "cell_type": "markdown",
   "metadata": {},
   "source": [
    "## 1. Retrieve Concept by id with the possibility to retrieve the CodeList entries\n",
    "\n",
    "**Endpoint URL**: `/api/concepts/{conceptId}`\n",
    "\n",
    "**Method**: `GET`\n",
    "\n",
    "**Parameters**:\n",
    "- `conceptId` (required): The concept id  \n",
    "- `includeCodeListEntries` (optional): Boolean, valid only for concepts of the type CodeList\n",
    "\n",
    "\n",
    "**Status Codes:**\n",
    "\n",
    "- 200 OK: The request was successful.\n",
    "- Otherwise an error message is displayed. \n",
    "\n",
    "**Use case**: The Local Data Steward needs to retrieve the concept by the Concept Id. \n",
    "\n",
    "**Request Example**:"
   ]
  },
  {
   "cell_type": "code",
   "execution_count": 12,
   "metadata": {},
   "outputs": [
    {
     "name": "stdout",
     "output_type": "stream",
     "text": [
      "<Response [200]>\n",
      "Response: 200\n"
     ]
    }
   ],
   "source": [
    "#Including code list entries \n",
    "\n",
    "url= \"https://api.i14y.admin.ch/api/partner/v1/concepts/\"\n",
    "\n",
    "concept_id = '08dc0def-b1f8-220a-8737-6c46ce923cf5' #state the right concept id here \n",
    "\n",
    "params = {'includeCodeListEntries': 'True'}\n",
    "\n",
    "response = r.get(url + concept_id, headers = headers, params=params, verify = False)\n",
    "\n",
    "print(response)\n",
    "\n",
    "print(f\"Response: {response.status_code}\")\n",
    "\n",
    "# If you need to save the JSON to a file\n",
    "\n",
    "# json_content = response.json()\n",
    "# with open(\"concept_data.json\", \"w\") as json_file:\n",
    "#        json.dump(json_content, json_file, indent=4)  # write the JSON with indentation for readability"
   ]
  },
  {
   "cell_type": "code",
   "execution_count": 13,
   "metadata": {},
   "outputs": [
    {
     "name": "stdout",
     "output_type": "stream",
     "text": [
      "<Response [200]>\n",
      "Response: 200\n"
     ]
    }
   ],
   "source": [
    "#Excluding code list entries \n",
    "\n",
    "url= 'https://api.i14y.admin.ch/api/partner/v1/concepts/'\n",
    "\n",
    "concept_id = '08dc0def-b1f8-220a-8737-6c46ce923cf5' #state the right concept id here \n",
    "\n",
    "params = {'includeCodeListEntries': 'False'}\n",
    "\n",
    "response = r.get(url + concept_id, headers = headers, params=params, verify = False)\n",
    "\n",
    "print(response)\n",
    "\n",
    "print(f\"Response: {response.status_code}\")"
   ]
  },
  {
   "cell_type": "code",
   "execution_count": 10,
   "metadata": {},
   "outputs": [
    {
     "name": "stdout",
     "output_type": "stream",
     "text": [
      "Code value: T, Name: Ja\n",
      "Code value: F, Name: Nein\n",
      "Code value: l, Name: leer\n"
     ]
    }
   ],
   "source": [
    "#Example where the result prints only the code value and the name of each entry\n",
    "\n",
    "url = 'https://api.i14y.admin.ch/api/partner/v1/concepts/'\n",
    "concept_id = '08dc0def-b1f8-220a-8737-6c46ce923cf5' #state the right concept id here \n",
    "params = {'includeCodeListEntries': 'True'} \n",
    "\n",
    "response = r.get(url + concept_id, headers=headers, params=params, verify=False)\n",
    "\n",
    "if response.status_code == 200:\n",
    "    data = json.loads(response.content)\n",
    "    \n",
    "    # Extract the codeListEntries\n",
    "    code_list_entries = data['data'].get('codeListEntries', [])\n",
    "    \n",
    "    # Print only the code and name for each entry\n",
    "    for entry in code_list_entries:\n",
    "        code = entry.get('code', 'N/A')\n",
    "        name = entry.get('name', {}).get('de', 'N/A')  # Assuming 'de' is the required language\n",
    "        print(f\"Code value: {code}, Name: {name}\")\n",
    "else:\n",
    "    print(f\"Failed to get data, status code: {response.status_code}\")\n"
   ]
  },
  {
   "cell_type": "markdown",
   "metadata": {},
   "source": [
    "## 2. Retrieve concept in JSON format by concept id\n",
    "\n",
    "**Endpoint URL**: `/api/concepts/{conceptId}/exports/json`\n",
    "\n",
    "**Method**: `GET`\n",
    "\n",
    "**Parameters**:\n",
    "\n",
    "- `conceptId` (required): The Concept Id\n",
    "\n",
    "\n",
    "**Status Codes:**\n",
    "\n",
    "- 200 OK: the request was sucessfull\n",
    "\n",
    "- Otherwise an error message is displayed. \n",
    "\n",
    "**Use case**: The Local Data Steward needs to retrieve the concept by the Concept Id in JSON format.\n",
    "\n",
    "**Request Examples**:"
   ]
  },
  {
   "cell_type": "code",
   "execution_count": 11,
   "metadata": {},
   "outputs": [
    {
     "name": "stdout",
     "output_type": "stream",
     "text": [
      "Response: 200\n",
      "{'data': {'codeListEntries': [{'annotations': [], 'code': 'T', 'description': {'de': 'Anhängevorrichtung vorhanden, dieser Wert wird bei manchen Schnittstellen als \"J\" zurückgegeben.'}, 'name': {'de': 'Ja', 'en': 'Yes', 'fr': 'Oui', 'it': 'Si'}}, {'annotations': [], 'code': 'F', 'description': {'de': 'Keine Anhängevorrichtung vorhanden, dieser Wert wird bei manchen Schnittstellen ohne Wert zurückgegeben.'}, 'name': {'de': 'Nein', 'en': 'No', 'fr': 'Non', 'it': 'No'}}, {'annotations': [], 'code': 'l', 'description': {'de': 'Keine Anhängevorrichtung vorhanden oder unbekannt, dieser Wert wird ohne Wert zurückgegeben.'}, 'name': {'de': 'leer', 'en': 'blank', 'fr': 'vide', 'it': 'vuoto'}}], 'codeListEntryValueMaxLength': 1, 'codeListEntryValueType': 'String', 'conceptType': 'CodeList', 'conformsTo': [{'label': {'de': 'Verordnung über die technischen Anforderungen an Strassenfahrzeuge (VTS)', 'fr': 'Ordonnance concernant les exigences techniques requises pour les véhicules routiers (OETV)', 'it': 'Ordinanza concernente le esigenze tecniche per i veicoli stradali (OETV)'}, 'uri': 'https://www.fedlex.admin.ch/eli/cc/1995/4425_4425_4425/de#art_91'}], 'description': {'de': 'Angabe dazu, ob bei einem Fahrzeug eine Anhängevorrichtung (Anhängerkupplung) vorhanden ist. ', 'en': 'Indicates whether a vehicle is equipped with a trailer hitch (tow coupling).', 'fr': \"Indique si un véhicule est équipé d'un dispositif d'attelage (crochet d'attelage).\", 'it': 'Indica se il veicolo è dotato di un gancio di traino (aggancio del rimorchio).'}, 'id': '08dc0def-b1f8-220a-8737-6c46ce923cf5', 'identifier': 'ANHVO', 'keywords': [{'de': 'Leistungsabhängige Schwerverkehrsabgabe (LSVA)', 'en': 'Distance-related heavy vehicle fee (HVF)', 'fr': 'Redevance poids lourds liée aux prestations (RPLP)', 'it': 'Tassa sul traffico pesante commisurata alle prestazioni (TTPCP)'}, {'de': 'Personenverkehr', 'en': 'Passenger transport', 'fr': 'Transport de personnes', 'it': 'Trasporto persone'}, {'de': 'Transportmotorwagen', 'en': 'Transport motorised trolley', 'fr': 'Voitures automobiles de transport', 'it': 'Autoveicoli di trasporto'}, {'de': 'Informationssystem Verkehrszulassung (IVZ)', 'en': 'Traffic Licence Information System (IVZ)', 'fr': 'Système d’information relatif à l’admission à la circulation (SIAC)', 'it': 'Sistema d’informazione sull’ammissione alla circolazione (SIAC)'}, {'de': 'Verbindungseinrichtungen', 'en': 'Connection equipment', 'fr': 'Dispositifs d’attelage', 'it': 'Dispositivi di agganciamento'}, {'de': 'Strassenfahrzeuge', 'en': 'Road vehicles', 'fr': 'Véhicules routiers', 'it': 'Veicoli stradali'}, {'de': 'Güterverkehr', 'en': 'Goods transport', 'fr': 'Transport de marchandises', 'it': 'Trasporto merci'}], 'name': {'de': 'Anhängevorrichtung', 'en': 'Tow coupling', 'fr': 'Dispositif d’attelage', 'it': 'Dispositivo d’aggancio rimorchio'}, 'publicationLevel': 'Public', 'publisher': {'identifier': 'CH_ASTRA', 'name': {'de': 'Bundesamt für Strassen', 'en': 'Federal Roads Office', 'fr': 'Office fédéral des routes', 'it': 'Ufficio federale delle strade'}}, 'registrationStatus': 'Recorded', 'themes': [{'code': '116', 'name': {'de': 'Mobilität', 'en': 'Mobility', 'fr': 'Mobilité', 'it': 'Mobilità'}, 'uri': ''}], 'validFrom': '2018-03-31', 'version': '1.0.0'}}\n"
     ]
    }
   ],
   "source": [
    "conceptId = \"08dc0def-b1f8-220a-8737-6c46ce923cf5\" #state the right concept id here \n",
    "url = f\"https://api.i14y.admin.ch/api/partner/v1/concepts/{conceptId}/exports/json\"\n",
    "\n",
    "response = r.get(url, headers = headers, verify = False)\n",
    "\n",
    "print(f\"Response: {response.status_code}\")\n",
    "\n",
    "print(response.json())\n",
    "\n",
    "# If you need to save the JSON to a file\n",
    "\n",
    "# json_content = response.json()\n",
    "# with open(\"concept_data.json\", \"w\") as json_file:\n",
    "#        json.dump(json_content, json_file, indent=4)  # write the JSON with indentation for readability"
   ]
  },
  {
   "cell_type": "markdown",
   "metadata": {},
   "source": [
    "## 3. Retrieve code list entries from a concept of the type CodeList by the concept Id\n",
    "\n",
    "**Endpoint URL**: `/api/concepts/{conceptId}/codelist-entries/exports/json`\n",
    "\n",
    "**Method**: `GET`\n",
    "\n",
    "**Parameters**:\n",
    "\n",
    "- `conceptId` (required): The Concept Id\n",
    "\n",
    "\n",
    "**Status Codes:**\n",
    "\n",
    "- 200 OK: the request was sucessfull\n",
    "\n",
    "- Otherwise an error message is displayed. \n",
    "\n",
    "**Use case**: The Local Data Steward needs to retrieve the code list entries from a concept of the type CodeList by the concept Id. \n",
    "\n",
    "**Request Examples**:"
   ]
  },
  {
   "cell_type": "code",
   "execution_count": 14,
   "metadata": {},
   "outputs": [
    {
     "name": "stdout",
     "output_type": "stream",
     "text": [
      "Code: T, Name: Ja, Annotations: []\n",
      "Code: F, Name: Nein, Annotations: []\n",
      "Code: l, Name: leer, Annotations: []\n"
     ]
    }
   ],
   "source": [
    "conceptId = \"08dc0def-b1f8-220a-8737-6c46ce923cf5\" #state the right concept id here \n",
    "\n",
    "url = f\"https://api.i14y.admin.ch/api/partner/v1/concepts/{conceptId}/codelist-entries/exports/json\"\n",
    "\n",
    "response = r.get(url, headers = headers, verify = False)\n",
    "\n",
    "if response.status_code == 200:\n",
    "    data = json.loads(response.content)\n",
    "    \n",
    "    # Extract the codeListEntries\n",
    "    code_list_entries = data.get('data', [])\n",
    "    \n",
    "    # Print code, name, and annotations for each entry\n",
    "    for entry in code_list_entries:\n",
    "        code = entry.get('code', 'N/A')\n",
    "        name = entry.get('name', {}).get('de', 'N/A')  # Assuming 'de' is the required language\n",
    "        annotations = entry.get('annotations', [])  # Get annotations (in this case there are not annotations, so it prints an empty list)\n",
    "        \n",
    "        print(f\"Code: {code}, Name: {name}, Annotations: {annotations}\")\n",
    "else:\n",
    "    print(f\"Failed to get data, status code: {response.status_code}\")\n",
    "\n",
    "# If you need to save the JSON to a file\n",
    "\n",
    "# json_content = response.json()\n",
    "# with open(\"concept_data.json\", \"w\") as json_file:\n",
    "#        json.dump(json_content, json_file, indent=4)  # write the JSON with indentation for readability"
   ]
  },
  {
   "cell_type": "markdown",
   "metadata": {},
   "source": [
    "## 4. Retrieve the code list entries from a concept of type CodeList by the concept Id in CSV format\n",
    "\n",
    "**Endpoint URL**: `/api/concepts/{conceptId}/codelist-entries/exports/json`\n",
    "\n",
    "**Method**: `GET`\n",
    "\n",
    "**Parameters**:\n",
    "\n",
    "- `conceptId` (required): The Concept Id\n",
    "\n",
    "\n",
    "**Status Codes:**\n",
    "\n",
    "- 200 OK: the request was sucessfull\n",
    "- Otherwise an error message is displayed. \n",
    "\n",
    "**Use case**: The Local Data Steward needs to retrieve the code list entries from a concept of type CodeList by the concept Id in CSV format\n",
    "\n",
    "**Request Examples**:"
   ]
  },
  {
   "cell_type": "code",
   "execution_count": 15,
   "metadata": {},
   "outputs": [
    {
     "name": "stdout",
     "output_type": "stream",
     "text": [
      "Response: 200\n",
      "b'Code,ParentCode,Name_de,Name_fr,Name_it,Name_rm,Name_en,Description_de,Description_fr,Description_it,Description_rm,Description_en\\r\\n\"T\",,\"Ja\",\"Oui\",\"Si\",,\"Yes\",\"Anh\\xc3\\xa4ngevorrichtung vorhanden, dieser Wert wird bei manchen Schnittstellen als \"\"J\"\" zur\\xc3\\xbcckgegeben.\",,,,\\r\\n\"F\",,\"Nein\",\"Non\",\"No\",,\"No\",\"Keine Anh\\xc3\\xa4ngevorrichtung vorhanden, dieser Wert wird bei manchen Schnittstellen ohne Wert zur\\xc3\\xbcckgegeben.\",,,,\\r\\n\"l\",,\"leer\",\"vide\",\"vuoto\",,\"blank\",\"Keine Anh\\xc3\\xa4ngevorrichtung vorhanden oder unbekannt, dieser Wert wird ohne Wert zur\\xc3\\xbcckgegeben.\",,,,\\r\\n'\n"
     ]
    }
   ],
   "source": [
    "conceptId = \"08dc0def-b1f8-220a-8737-6c46ce923cf5\" #state the right concept id here \n",
    "\n",
    "url = f\"https://api.i14y.admin.ch/api/partner/v1/concepts/{conceptId}/codelist-entries/exports/csv\"\n",
    "\n",
    "response = r.get(url, headers = headers, verify = False)\n",
    "\n",
    "print(f\"Response: {response.status_code}\")\n",
    "print(response.content)\n",
    "\n",
    "#If you need to save the CSV content to a file \n",
    "\n",
    "#csv_content = response.content.decode(\"utf-8\") \n",
    "#with open(\"codelist_entries.csv\", \"w\", encoding=\"utf-8\") as csv_file:\n",
    "#        csv_file.write(csv_content)"
   ]
  },
  {
   "cell_type": "markdown",
   "metadata": {},
   "source": [
    "## 5. Create a new CodeList, Date, Numeric or String concept \n",
    "\n",
    "**Endpoint URL**: `/api/concepts`\n",
    "\n",
    "**Method**: `POST`\n",
    "\n",
    "**Parameters**:\n",
    "\n",
    "No parameters\n",
    "\n",
    "**Status Codes:**\n",
    "\n",
    "- 200 Created.\n",
    "\n",
    "- Otherwise an error message is displayed. \n",
    "\n",
    "**Use case**: The Local Data Steward needs to create a new codelist, Date, Numeric or String concept. The publication level and the registration status will be set automatically to \"Internal\" and \"Initial\". \n",
    "\n",
    "**Request Examples**:"
   ]
  },
  {
   "cell_type": "code",
   "execution_count": 18,
   "metadata": {},
   "outputs": [
    {
     "name": "stdout",
     "output_type": "stream",
     "text": [
      "Status-Code: 201\n",
      "Concept Id: b'\"08dd0489-90b0-7b99-92f7-6b58e5a60d00\"'\n"
     ]
    }
   ],
   "source": [
    "headers = {\n",
    "    'Content-Type': 'application/json',  # To make a valid request it's necessary to state the correct 'Content-Type' (Note: in the other POST APIs [point 6 and 7: import codelist entries] there is not need to state the 'Content-Type', in fact stating it it could lead to errors)\n",
    "    'Authorization': token \n",
    "}\n",
    "\n",
    "file_path = \"concept.json\" #state the right file name here\n",
    "with open(file_path, 'r') as file:\n",
    "    json_data = file.read()\n",
    "\n",
    "url = 'https://api.i14y.admin.ch/api/partner/v1/concepts'\n",
    "\n",
    "response = r.post(url, headers=headers, data = json_data, verify = False)\n",
    "if response.status_code == 201:\n",
    "    print(f'Status-Code: {response.status_code}')\n",
    "    print(f'Concept Id: {response.content}')\n",
    "else:\n",
    "    print(f\"Error: {response.status_code} - {response.text}\")"
   ]
  },
  {
   "cell_type": "code",
   "execution_count": null,
   "metadata": {},
   "outputs": [],
   "source": [
    "// concept_data example (json format):\n",
    "\n",
    "{\n",
    "  \"data\": {\n",
    "    \"codeListEntryValueMaxLength\": 30,\n",
    "    \"codeListEntryValueType\": \"String\",\n",
    "    \"conceptType\": \"CodeList\",\n",
    "    \"conformsTo\": [],\n",
    "    \"description\": {\n",
    "      \"en\": \"This is an example\"\n",
    "    },\n",
    "    \"identifier\": \"test12345\",\n",
    "    \"keywords\": [],\n",
    "    \"name\": {\n",
    "      \"en\": \"test12345\"\n",
    "    },\n",
    "    \"publisher\": {\n",
    "      \"identifier\": \"i14y-test-organisation\",\n",
    "      \"name\": {\n",
    "        \"de\": \"I14Y Test Organisation_de\",\n",
    "        \"en\": \"I14Y Test Organisation_en\",\n",
    "        \"fr\": \"I14Y Test Organisation_fr\",\n",
    "        \"it\": \"I14Y Test Organisation_it\",\n",
    "        \"rm\": \"I14Y Test Organisation_rm\"\n",
    "      }\n",
    "    },\n",
    "    \"responsibleDeputy\": {\n",
    "      \"identifier\": \"full.name@bfs.admin.ch\"\n",
    "    },\n",
    "    \"responsiblePerson\": {\n",
    "      \"identifier\": \"max.muster@example.org\"\n",
    "    },\n",
    "    \"themes\": [],\n",
    "    \"validFrom\": \"2024-10-09\",\n",
    "    \"version\": \"1.0.0\"\n",
    "  }\n",
    "}"
   ]
  },
  {
   "cell_type": "markdown",
   "metadata": {},
   "source": [
    "## 6. Import concept codelist entries by concept Id in JSON format\n",
    "\n",
    "**Endpoint URL**: `/api/concepts`\n",
    "\n",
    "**Method**: `POST`\n",
    "\n",
    "**Parameters**:\n",
    "\n",
    "No parameters\n",
    "\n",
    "**Status Codes:**\n",
    "\n",
    "- 204 No Content: request was sucessfull\n",
    "- Otherwise an error message is displayed. \n",
    "\n",
    "**Use Case**: A code list can be attached to a data concept of the CodeList type. It is assumed here that a code list is available in JSON format. An example of the structure of such a code list can be found in the [I14Y manual](https://i14y-ch.github.io/handbook/de/4_publikation/2_konzepte/#ergänzen-einer-codeliste). If everything works, status code 204 is displayed below. Otherwise an error message is displayed. \n",
    "\n",
    "**Request Examples**:"
   ]
  },
  {
   "cell_type": "code",
   "execution_count": 19,
   "metadata": {},
   "outputs": [
    {
     "name": "stdout",
     "output_type": "stream",
     "text": [
      "Status-Code: 204\n",
      "<Response [204]>\n"
     ]
    }
   ],
   "source": [
    "headers = { \n",
    "    'Authorization': token #In the headers it should not be defined the 'Content-Type', it is automatically managed by the requests library (otherwise it can lead to errors). If you need to define it, please refer to Use Case 3 (at the end of the notebook)\n",
    "}\n",
    "\n",
    "\n",
    "concept_id = \"08dd0489-90b0-7b99-92f7-6b58e5a60d00\" #state the right concept id here \n",
    "url = f'https://api.i14y.admin.ch/api/partner/v1/concepts/{concept_id}/codelist-entries/imports/json'\n",
    "\n",
    "file_path = 'concept.json' #state the right file name here\n",
    "with open(file_path, 'rb') as file:\n",
    "    files = {\n",
    "        'file': (file_path, file, 'text/json')\n",
    "    }\n",
    "    response = r.post(url, headers=headers, files=files, verify = False)\n",
    "\n",
    "print(f'Status-Code: {response.status_code}')\n",
    "print(response)\n"
   ]
  },
  {
   "cell_type": "code",
   "execution_count": null,
   "metadata": {},
   "outputs": [],
   "source": [
    "// Example codelist entries in json format: \n",
    "\n",
    "{\n",
    "  \"codeListEntries\": [\n",
    "    {\n",
    "      \"annotations\": [],\n",
    "      \"code\": \"10\",\n",
    "      \"description\": {\n",
    "        \"de\": \"Die Frühgeschichte umfasst die Zeit von ca. 2,5 Millionen v. Chr. bis 500 v. Chr.\",\n",
    "        \"en\": \"Early history covers the period from around 2.5 million BC to 500 BC.\",\n",
    "        \"fr\": \"La Préhistoire couvre la période d'environ 2,5 millions av. J.-C. à 500 av. J.-C.\",\n",
    "        \"it\": \"Preistoria comprende il periodo da circa 2,5 milioni a.C. al 500 a.C.\"\n",
    "      },\n",
    "      \"name\": {\n",
    "        \"de\": \"Frühgeschichte\",\n",
    "        \"en\": \"Prehistory\",\n",
    "        \"fr\": \"Préhistoire\",\n",
    "        \"it\": \"Preistoria\"\n",
    "      }\n",
    "    },\n",
    "\n",
    "    {\n",
    "      \"annotations\": [  //note : it's possible to add annotations \n",
    "        {\n",
    "          \"identifier\": \"wikimedia_iron_age\",\n",
    "          \"text\": {\n",
    "            \"de\": \"Bilder und Grafiken auf Wikimedia Commons\",\n",
    "            \"en\": \"Images and graphics on Wikimedia Commons\",\n",
    "            \"fr\": \"Images et graphiques sur Wikimedia Commons\",\n",
    "            \"it\": \"Immagini e grafica su Wikimedia Commons\"\n",
    "          },\n",
    "          \"title\": \"Wikimedia Commons\",\n",
    "          \"type\": \"media\",\n",
    "          \"uri\": \"https://commons.wikimedia.org/wiki/Category:Iron_Age\"\n",
    "        }\n",
    "      ],\n",
    "      \"code\": \"13\",\n",
    "      \"description\": {\n",
    "        \"de\": \"Die Eisenzeit umfasst die Zeit von ca. 1200 v. Chr. bis 500 v. Chr.\",\n",
    "        \"en\": \"The Iron Age covers the period from around 1200 BC to 500 BC.\",\n",
    "        \"fr\": \"La période du fer s'étend d'environ 1200 av. J.-C. à 500 av. J.-C.\",\n",
    "        \"it\": \"L'età del ferro copre il periodo che va dal 1200 a.C. al 500 a.C. circa.\"\n",
    "      },\n",
    "      \"name\": {\n",
    "        \"de\": \"Eisenzeit\",\n",
    "        \"en\": \"Iron Age\",\n",
    "        \"fr\": \"Période du fer\",\n",
    "        \"it\": \"Età del ferro\"\n",
    "      },\n",
    "      \"parentCode\": \"10\"\n",
    "    },\n",
    "\n",
    "  ]\n",
    "}"
   ]
  },
  {
   "cell_type": "markdown",
   "metadata": {},
   "source": [
    "## 7. Import concept codelist entries by concept Id in CSV format\n",
    "\n",
    "**Endpoint URL**: `/api/concepts`\n",
    "\n",
    "**Method**: `POST`\n",
    "\n",
    "**Parameters**:\n",
    "\n",
    "No parameters\n",
    "\n",
    "**Status Codes:**\n",
    "\n",
    "- 204 No Content: request was sucessfull\n",
    "- Otherwise an error message is displayed. \n",
    "\n",
    "**Use Case**: A code list can be attached to a data concept of the CodeList type. It is assumed here that a code list is available in CSV format. An example of the structure of such a code list can be found in the [I14Y manual](https://i14y-ch.github.io/handbook/de/4_publikation/2_konzepte/#ergänzen-einer-codeliste). If everything works, status code 204 is displayed below. Otherwise an error message is displayed. \n",
    "\n",
    "**Request Examples**:"
   ]
  },
  {
   "cell_type": "code",
   "execution_count": 26,
   "metadata": {},
   "outputs": [
    {
     "name": "stdout",
     "output_type": "stream",
     "text": [
      "Status code: 204\n"
     ]
    }
   ],
   "source": [
    "headers = { \n",
    "    'Authorization': token #In the headers it should not be defined the 'Content-Type', it is automatically managed by the requests library (otherwise it can lead to errors). If you need to define it, please refer to Use Case 3 (at the end of the notebook)\n",
    "}\n",
    "concept_id= \"08dd0489-90b0-7b99-92f7-6b58e5a60d00\" #state the right concept id here \n",
    "url = f'https://api.i14y.admin.ch/api/partner/v1/concepts/{concept_id}/codelist-entries/imports/csv'\n",
    "\n",
    "file_path = 'example.csv'#state the right file name here\n",
    "with open(file_path, 'rb') as file:\n",
    "    files = {\n",
    "        'file': (file_path, file, 'text/csv')\n",
    "    }\n",
    "    response = r.post(url, headers=headers, files=files, verify = False)\n",
    "\n",
    "print(f'Status code: {response.status_code}')"
   ]
  },
  {
   "cell_type": "raw",
   "metadata": {},
   "source": [
    "//example codelist entries in CSV format\n",
    "\n",
    "Code,ParentCode,Name_de,Name_fr,Name_it,Name_rm,Name_en,Description_de,Description_fr,Description_it,Description_rm,Description_en,Annotation_media_Type,Annotation_media_Title,Annotation_media_URI,Annotation_media_Identifier,Annotation_media_Text_de,Annotation_media_Text_fr,Annotation_media_Text_it,Annotation_media_Text_rm,Annotation_media_Text_en\n",
    "\"10\",\"\",\"Frühgeschichte\",\"Préhistoire\",\"Preistoria\",\"\",\"Prehistory\",\"Die Frühgeschichte umfasst die Zeit von ca. 2,5 Millionen v. Chr. bis 500 v. Chr.\",\"\",\"La Préhistoire couvre la période d'environ 2,5 millions av. J.-C. à 500 av. J.-C.\",\"\",\"Preistoria comprende il periodo da circa 2,5 milioni a.C. al 500 a.C.\",\"\",\"\",\"\",\"\",\"\",\"\",\"\",\"\",\"\"\n",
    "\"11\",\"10\",\"Steinzeit\",\"Période de la pierre\",\"Età della pietra\",\"\",\"Temp da la peira\",\"Stone Age\",\"Die Steinzeit umfasst die Zeit von ca. 2,5 Millionen v. Chr. bis 10.000 v. Chr.\",\"\",\"La période de la pierre couvre la période d'environ 2,5 millions av. J.-C. à 10 000 av. J.-C.\",\"\",\"media\",\"Wikimedia Commons\",\"https://commons.wikimedia.org/wiki/Category:Stone_Age,wikimedia_commons\",\"wikimedia_stone_age\",\"Bilder und Grafiken auf Wikimedia Commons\",\"Images et graphiques sur Wikimedia Commons\",\"Immagini e grafica su Wikimedia Commons\",\"\",\"Images and graphics on Wikimedia Commons\"\n",
    "\"12\",\"10\",\"Bronzezeit\",\"Période du bronze\",\"Età del bronzo\",\"Temp dal bronza\",\"\",\"Bronze Age\",\"Die Bronzezeit erstreckt sich von ca. 3000 v. Chr. bis 2200 v. Chr.\",\"\",\"La période du bronze s'étend d'environ 3000 av. J.-C. à 2200 av. J.-C.\",\"\",\"media\",\"Wikimedia Commons\",\"https://commons.wikimedia.org/wiki/Category:Bronze_Age\",\"wikimedia_bronze_age\",\"Bilder und Grafiken auf Wikimedia Commons\",\"Images et graphiques sur Wikimedia Commons\",\"Immagini e grafica su Wikimedia Commons\",\"\",\"Images and graphics on Wikimedia Commons\"\n",
    "\"13\",\"10\",\"Eisenzeit\",\"Période du fer\",\"Età del ferro\",\"Temp dal ferd\",\"\",\"Iron Age\",\"Die Eisenzeit umfasst die Zeit von ca. 1200 v. Chr. bis 500 v. Chr.\",\"\",\"La période du fer s'étend d'environ 1200 av. J.-C. à 500 av. J.-C.\",\"\",\"media\",\"Wikimedia Commons\",\"https://commons.wikimedia.org/wiki/Category:Iron_Age\",\"wikimedia_iron_age\",\"Bilder und Grafiken auf Wikimedia Commons\",\"Images et graphiques sur Wikimedia Commons\",\"Immagini e grafica su Wikimedia Commons\",\"\",\"Images and graphics on Wikimedia Commons\"\n",
    "\"20\",\"\",\"Antike\",\"Antiquité\",\"Antichità\",\"\",\"Antiquity\",\"Die Antike erstreckt sich von ca. 500 v. Chr. bis 500 n. Chr.\",\"\",\"L'Antiquité s'étend d'environ 500 av. J.-C. à 500 ap. J.-C.\",\"\",\"L'Antichità va da circa 500 a.C. al 500 d.C.\",\"\",\"\",\"\",\"\",\"\",\"\",\"\",\"\",\"\"\n",
    "Dieses Beispiel enthält eine Annotation. Für jede zusätzliche Annotation fügen sie weitere Spalten an. Dabei wählen Sie"
   ]
  },
  {
   "cell_type": "markdown",
   "metadata": {},
   "source": [
    "## 8. Set the publication level proposal of the concept by id\n",
    "\n",
    "**Endpoint URL**: `/api/concepts/{conceptId}/publication-level-proposal`\n",
    "\n",
    "**Method**: `PUT`\n",
    "\n",
    "**Parameters**:\n",
    "\n",
    "- `conceptId` (required): The Concept Id\n",
    "- `proposal` (required): Internal or Public \n",
    "\n",
    "**Status Codes:**\n",
    "\n",
    "- 204 No Content: request was sucessfull\n",
    "- Otherwise an error message is displayed. \n",
    "\n",
    "**Use case**: The Local Data Steward needs to change the pubblication level proposal of the concept. For now the LDS can only set the publication level proposal and not the publication level itself.  \n",
    "\n",
    "**Request Examples**:"
   ]
  },
  {
   "cell_type": "code",
   "execution_count": 27,
   "metadata": {},
   "outputs": [
    {
     "name": "stdout",
     "output_type": "stream",
     "text": [
      "Concept pubblication level proposal updated successfully\n"
     ]
    }
   ],
   "source": [
    "concept_id= \"08dd0489-90b0-7b99-92f7-6b58e5a60d00\" #state the right concept id here \n",
    "url = f\"https://api.i14y.admin.ch/api/partner/v1/concepts/{concept_id}/publication-level-proposal\"\n",
    "params = {'proposal': 'Public'}\n",
    "response = r.put(url, headers=headers, params=params, verify = False)\n",
    "\n",
    "if response.status_code == 204:\n",
    "    print(\"Concept pubblication level proposal updated successfully\")\n",
    "else:\n",
    "    print(f\"Error: {response.status_code} - {response.text}\")"
   ]
  },
  {
   "cell_type": "markdown",
   "metadata": {},
   "source": [
    "## 9. Set the registration status proposal of the concept with the specified id. \n",
    "\n",
    "**Endpoint URL**: `/api/concepts/{conceptId}/registration-status-proposal`\n",
    "\n",
    "**Method**: `PUT`\n",
    "\n",
    "**Parameters**:\n",
    "\n",
    "- `conceptId` (required): The Concept Id\n",
    "- `proposal` (optional): *Available values* : Candidate, Recorded, Qualified, Standard, PreferredStandard, Superseded, Retired\n",
    "\n",
    "\n",
    "**Status Codes:**\n",
    "\n",
    "- 204 No Content: request was sucessfull\n",
    "- Otherwise an error message is displayed.  \n",
    "\n",
    "**Use case**: The Local Data Steward needs to update the registration status proposal. Once the registration status is set to Recorded is not possible to set the registration status proposal to Candidate. \n",
    "\n",
    "**Request Examples**:\n"
   ]
  },
  {
   "cell_type": "code",
   "execution_count": 28,
   "metadata": {},
   "outputs": [
    {
     "name": "stdout",
     "output_type": "stream",
     "text": [
      "Concept registration status proposal updated successfully\n"
     ]
    }
   ],
   "source": [
    "concept_id= \"08dd0489-90b0-7b99-92f7-6b58e5a60d00\" #state the right concept id here \n",
    "url = f\"https://api.i14y.admin.ch/api/partner/v1/concepts/{concept_id}/registration-status-proposal\"\n",
    "params = {'proposal': 'Candidate'}\n",
    "response = r.put(url, headers=headers, params=params, verify = False)\n",
    "\n",
    "if response.status_code == 204:\n",
    "    print(\"Concept registration status proposal updated successfully\")\n",
    "else:\n",
    "    print(f\"Error: {response.status_code} - {response.text}\")"
   ]
  },
  {
   "cell_type": "markdown",
   "metadata": {},
   "source": [
    "## 10. Set the registration status of the concept with the specified id. \n",
    "\n",
    "**Endpoint URL**: `/api/concepts/{conceptId}/registration-status-proposal`\n",
    "\n",
    "**Method**: `PUT`\n",
    "\n",
    "**Parameters**:\n",
    "\n",
    "- `conceptId` (required): The Concept Id\n",
    "- `status` (required): *Available values* : Candidate, Recorded, Qualified, Standard, PreferredStandard, Superseded, Retired\n",
    "\n",
    "**Status Codes:**\n",
    "\n",
    "- 204 No Content: request was sucessfull\n",
    "- Otherwise an error message is displayed. \n",
    "\n",
    "**Use case**: The Local Data Steward needs to update the registration status. The registration status can be changed only after a registration status proposal has been made. \n",
    "\n",
    "Once the registration status is set to Recorded is not possible to set it to Candidate. \n",
    "\n",
    "**Request Examples**:"
   ]
  },
  {
   "cell_type": "code",
   "execution_count": 30,
   "metadata": {},
   "outputs": [
    {
     "name": "stdout",
     "output_type": "stream",
     "text": [
      "Concept registration status updated successfully\n"
     ]
    }
   ],
   "source": [
    "concept_id= \"08dd0489-90b0-7b99-92f7-6b58e5a60d00\" #state the right concept id here \n",
    "url = f\"https://api.i14y.admin.ch/api/partner/v1/concepts/{concept_id}/registration-status\"\n",
    "params = {'status': 'Candidate'}\n",
    "response = r.put(url, headers=headers, params=params, verify = False)\n",
    "\n",
    "if response.status_code == 204:\n",
    "    print(\"Concept registration status updated successfully\")\n",
    "else:\n",
    "    print(f\"Error: {response.status_code} - {response.text}\")"
   ]
  },
  {
   "cell_type": "markdown",
   "metadata": {},
   "source": [
    "## 11. Delete all code list entries by concept id.\n",
    "\n",
    "**Endpoint URL**: `/api/concepts/{conceptId}/codelist-entries`\n",
    "\n",
    "**Method**: `DELETE`\n",
    "\n",
    "**Parameters**:\n",
    "\n",
    "- `conceptId` (required): The Concept Id\n",
    "**Status Codes:**\n",
    "\n",
    "- 204 No Content: request was sucessfull\n",
    "- Otherwise an error message is displayed. \n",
    "\n",
    "**Use case**: The Local Data Steward needs to delete a all code list entries of a concept with the current status **Initial** or **Candidate**. Once the concept is **Recorded** is not possible to delete the code list entries.  \n",
    "\n",
    "**Request Examples**:"
   ]
  },
  {
   "cell_type": "code",
   "execution_count": 55,
   "metadata": {},
   "outputs": [
    {
     "name": "stdout",
     "output_type": "stream",
     "text": [
      "Code List entries deleted successfully\n"
     ]
    }
   ],
   "source": [
    "concept_id = \"08db8820-2703-b93f-b467-9ac6bcff7082\" #state the right concept id here \n",
    "url = f\"https://api.i14y.admin.ch/api/partner/v1/concepts/{concept_id}/codelist-entries\"\n",
    "\n",
    "response = r.delete(url, headers=headers, verify = False)\n",
    "\n",
    "if response.status_code == 204:\n",
    "    print(\"Code List entries deleted successfully\")\n",
    "else:\n",
    "    print(f\"Error: {response.status_code} - {response.text}\")"
   ]
  },
  {
   "cell_type": "markdown",
   "metadata": {},
   "source": [
    "# PublicServices"
   ]
  },
  {
   "cell_type": "markdown",
   "metadata": {},
   "source": [
    "## 1. Retrieve all Public Services\n",
    "\n",
    "**Endpoint URL**: `/api/publicservices/exports/json`\n",
    "\n",
    "**Method**: `GET`\n",
    "\n",
    "**Parameters**:\n",
    "\n",
    "No parameters\n",
    "\n",
    "\n",
    "**Status Codes:**\n",
    "\n",
    "- 200 OK: the request was sucessfull\n",
    "\n",
    "**Use case**: The Local Data Steward needs to retrieve all Public Services. \n",
    "\n",
    "**Request Examples**:"
   ]
  },
  {
   "cell_type": "code",
   "execution_count": 10,
   "metadata": {},
   "outputs": [
    {
     "name": "stdout",
     "output_type": "stream",
     "text": [
      "<Response [200]>\n"
     ]
    }
   ],
   "source": [
    "url = \"https://api.i14y.admin.ch/api/partner/v1/publicservices/exports/json\"\n",
    "\n",
    "response = r.get(url, headers = headers, verify = False)\n",
    "\n",
    "print(response)\n",
    "\n",
    "# If you need to save the JSON to a file\n",
    "\n",
    "# json_content = response.json()\n",
    "# with open(\"publicservices_data.json\", \"w\") as json_file:\n",
    "#        json.dump(json_content, json_file, indent=4)  # write the JSON with indentation for readability"
   ]
  },
  {
   "cell_type": "markdown",
   "metadata": {},
   "source": [
    "-------------------------\n",
    "# Use Cases\n",
    "\n",
    "### Use Case 1: Additions or changes in a Concept: creation of a new version\n",
    "\n",
    "**Description**:  \n",
    "A Local Data Steward needs to modify an existing concept. The LDS can either create a new version of the concept using the I14Y web interface (by clicking on the \"create a new version\" button), or he can create a new version using the API. \n",
    "\n",
    "In order to create a new version using the APIs the LDS needs to use a POST request with the updated json data (the version number needs to be updated: <code> “version”: “2.0.0” </code>). \n",
    "\n"
   ]
  },
  {
   "cell_type": "code",
   "execution_count": 18,
   "metadata": {},
   "outputs": [
    {
     "name": "stdout",
     "output_type": "stream",
     "text": [
      "Response: 200\n",
      "JSON content successfully saved\n"
     ]
    }
   ],
   "source": [
    "# First we retrieve the json file corresponding to the concept that we need to change \n",
    "\n",
    "conceptId = \"08db8820-2703-b93f-b467-9ac6bcff7082\" #state the right concept id here \n",
    "url = f\"https://api.i14y.admin.ch/api/partner/v1/concepts/{conceptId}/exports/json\"\n",
    "\n",
    "response = r.get(url, headers = headers, verify = False)\n",
    "\n",
    "print(f\"Response: {response.status_code}\")\n",
    "\n",
    "# If the response is successful (status code 200), save the JSON to a file\n",
    "if response.status_code == 200:\n",
    "    json_content = response.json()\n",
    "    with open(\"concept_data.json\", \"w\") as json_file:\n",
    "        json.dump(json_content, json_file, indent=4)  # write the JSON with indentation for readability\n",
    "\n",
    "    print(\"JSON content successfully saved\")\n",
    "else:\n",
    "    print(\"Failed to retrieve the JSON content.\")"
   ]
  },
  {
   "cell_type": "code",
   "execution_count": null,
   "metadata": {},
   "outputs": [],
   "source": [
    "// concept_data example:\n",
    "// make the changes that are needed \n",
    "{\n",
    "  \"data\": {\n",
    "    \"codeListEntries\": [\n",
    "      {\n",
    "        \"annotations\": [],\n",
    "        \"code\": \"007EFF\",\n",
    "        \"name\": {\n",
    "          \"de\": \"2\"\n",
    "        }\n",
    "      },\n",
    "      {\n",
    "        \"annotations\": [],\n",
    "        \"code\": \"20A040\",\n",
    "        \"name\": {\n",
    "          \"de\": \"3\"\n",
    "        }\n",
    "      }\n",
    "    ],\n",
    "    \"codeListEntryValueMaxLength\": 14,\n",
    "    \"codeListEntryValueType\": \"String\",\n",
    "    \"conceptType\": \"CodeList\",\n",
    "    \"conformsTo\": [],\n",
    "    \"description\": {\n",
    "        \"de\": null,\n",
    "        \"en\": \"This is an example\",\n",
    "        \"fr\": null,\n",
    "        \"it\": null,\n",
    "        \"rm\": null\n",
    "    },\n",
    "    \"id\": \"08dc4e39-1631-f5bc-aebc-50d8804ee219\",\n",
    "    \"identifier\": \"ex_test123\",\n",
    "    \"keywords\": [],\n",
    "    \"name\": {\n",
    "        \"de\": null,\n",
    "        \"en\": \"ex_test123\",\n",
    "        \"fr\": null,\n",
    "        \"it\": null,\n",
    "        \"rm\": null\n",
    "    },\n",
    "    \"publicationLevel\": \"Internal\",\n",
    "    \"publisher\": {\n",
    "      \"identifier\": \"i14y-test-organisation\",\n",
    "      \"name\": {\n",
    "        \"de\": \"I14Y Test Organisation_de\",\n",
    "        \"en\": \"I14Y Test Organisation_en\",\n",
    "        \"fr\": \"I14Y Test Organisation_fr\",\n",
    "        \"it\": \"I14Y Test Organisation_it\",\n",
    "        \"rm\": \"I14Y Test Organisation_rm\"\n",
    "      }\n",
    "    },\n",
    "    \"responsibleDeputy\": {\n",
    "      \"identifier\": \"example.example@example.org\",\n",
    "      \"name\": \"Example Example\",\n",
    "      \"firstName\": \"\",\n",
    "      \"lastName\": \"\"\n",
    "    },\n",
    "    \"responsiblePerson\": {\n",
    "      \"identifier\": \"max.muster@example.org\",\n",
    "      \"name\": \"Max Muster\",\n",
    "      \"firstName\": \"\",\n",
    "      \"lastName\": \"\"\n",
    "    },\n",
    "    \"themes\": [],\n",
    "    \"validFrom\": \"2024-09-09\",\n",
    "    \"version\": \"2.0.0\" //new version updated (1.0.0 -> 2.0.0)\n",
    "  }\n",
    "}"
   ]
  },
  {
   "cell_type": "code",
   "execution_count": 35,
   "metadata": {},
   "outputs": [
    {
     "name": "stdout",
     "output_type": "stream",
     "text": [
      "Status-Code: 201\n",
      "b'\"08dd048b-3195-79f3-805d-e6decba955fe\"'\n"
     ]
    }
   ],
   "source": [
    "# Then we can post the new version of the concept. \n",
    "\n",
    "headers = { 'Accept': '*/*', \n",
    "            'Content-Type': 'application/json', #state the correct content type that is sent \n",
    "            'Authorization':  token\n",
    "        }\n",
    "        \n",
    "file_path = 'concept_data.json' #state the right file name here\n",
    "with open(file_path, 'r') as file:\n",
    "    json_data = file.read()\n",
    "\n",
    "url = 'https://api.i14y.admin.ch/api/partner/v1/concepts'\n",
    "\n",
    "response = r.post(url, headers=headers, data = json_data, verify = False)\n",
    "print(f'Status-Code: {response.status_code}')\n",
    "print(response.content)"
   ]
  },
  {
   "cell_type": "markdown",
   "metadata": {},
   "source": [
    "### Use Case 2: Additions or changes in a code list: delation of all entries and reupload of new corrected entries\n",
    "\n",
    "**Description**:  \n",
    "A Local Data Steward needs to modify an existing code list. The LDS has then to delete all code list entries and then he can reupload the new code list entries. Note that the deletion of all code list entries is only possible if the concept current status is Initial or Candidate."
   ]
  },
  {
   "cell_type": "code",
   "execution_count": 36,
   "metadata": {},
   "outputs": [
    {
     "name": "stdout",
     "output_type": "stream",
     "text": [
      "Code List entries deleted successfully\n"
     ]
    }
   ],
   "source": [
    "# First we delete all the code list entries by concept ID (more information can be found in point 12, section Concept)\n",
    "\n",
    "concept_id = \"08dd0489-90b0-7b99-92f7-6b58e5a60d00\" #state the right concept id here \n",
    "url = f\"https://api.i14y.admin.ch/api/partner/v1/concepts/{concept_id}/codelist-entries\"\n",
    "headers = {\n",
    "    'Accept': '*/*', \n",
    "    'Authorization': token\n",
    "}\n",
    "response = r.delete(url, headers=headers, verify = False)\n",
    "\n",
    "if response.status_code == 204:\n",
    "    print(\"Code List entries deleted successfully\")\n",
    "else:\n",
    "    print(f\"Error: {response.status_code} - {response.text}\")"
   ]
  },
  {
   "cell_type": "code",
   "execution_count": 37,
   "metadata": {},
   "outputs": [
    {
     "name": "stdout",
     "output_type": "stream",
     "text": [
      "Code List entries uploaded successfully!\n"
     ]
    }
   ],
   "source": [
    "# Secondly, we import the codelist entries in CSV format (more information can be found in point 6, section: Concept for json format; and point 7, section: Concept for CSV format)\n",
    "url = f'https://api.i14y.admin.ch/api/partner/v1/concepts/{concept_id}/codelist-entries/imports/csv'\n",
    "\n",
    "headers = {'Accept': '*/*', 'Authorization':  token}\n",
    "\n",
    "file_path = \"esempio.csv\" #state the right file name here\n",
    "with open(file_path, 'rb') as file:\n",
    "    files = {\n",
    "        'file': (file_path, file,'text/csv')\n",
    "    }\n",
    "    response = r.post(url, headers=headers, files=files, verify = False)\n",
    "\n",
    "if response.status_code == 204:\n",
    "    print(\"Code List entries uploaded successfully!\")\n",
    "else:\n",
    "    print(f\"Error: {response.status_code} - {response.text}\")"
   ]
  },
  {
   "cell_type": "markdown",
   "metadata": {},
   "source": [
    "### Use Case 3: Importing of codelist entries with 'Content-Type' defined in headers\n",
    "\n",
    "**Description**:  \n",
    "In Python, the requests library automatically manages the headers for certain operations, so you generally do not need to manually set them unless it is absolutely necessary. Specifically, when uploading files or sending certain types of requests, it’s important not to manually set the Content-Type header. This is because the requests library handles this header internally based on the data being sent. Manually setting the Content-Type to something like application/json or multipart/form-data can cause errors if it doesn't match the actual content being sent. You can refer to [the official requests documentation](https://requests.readthedocs.io/en/latest/user/quickstart/) for more details. \n",
    "\n",
    "In our case, the only essential header we need to manually include is the 'Authorization': token header. The Content-Type is best left to be handled automatically by requests.\n",
    "\n",
    "However, if it's necessary to define 'Content-Type', it can be done by using the [requests_toolbelt library](https://toolbelt.readthedocs.io/en/latest/user.html)’s MultipartEncoder: using MultipartEncoder from the requests_toolbelt package automatically handles the file upload as multipart form data, along with the necessary boundary."
   ]
  },
  {
   "cell_type": "code",
   "execution_count": 40,
   "metadata": {},
   "outputs": [
    {
     "name": "stdout",
     "output_type": "stream",
     "text": [
      "Status-Code: 204\n"
     ]
    }
   ],
   "source": [
    "#Content-Type defined as multipart/form-data\n",
    "\n",
    "from requests_toolbelt import MultipartEncoder\n",
    "import requests as r\n",
    "\n",
    "boundary = '------123455'\n",
    "\n",
    "headers = {\n",
    "    'Content-Type': f'multipart/form-data; boundary={boundary}',\n",
    "    'Authorization': token  \n",
    "}\n",
    "\n",
    "concept_id = \"08dd0489-90b0-7b99-92f7-6b58e5a60d00\" #use the right concept id here\n",
    "url = f'https://api.i14y.admin.ch/api/partner/v1/concepts/{concept_id}/codelist-entries/imports/csv'\n",
    "\n",
    "file_path = 'codeListEntries.csv'\n",
    "\n",
    "with open(file_path, 'rb') as file:\n",
    "   \n",
    "    fields = {\n",
    "        'file': (file_path, file, 'text/csv')\n",
    "    }\n",
    "\n",
    "    # Create the MultipartEncoder object\n",
    "    form_data = MultipartEncoder(fields=fields, boundary=boundary)\n",
    "\n",
    "    # Update the headers to include the correct content-type set by MultipartEncoder\n",
    "    headers['Content-Type'] = form_data.content_type\n",
    "   \n",
    "    response = r.post(url, headers=headers, data=form_data, verify=False)\n",
    "\n",
    "\n",
    "print(f'Status-Code: {response.status_code}')"
   ]
  },
  {
   "cell_type": "code",
   "execution_count": 48,
   "metadata": {},
   "outputs": [
    {
     "name": "stdout",
     "output_type": "stream",
     "text": [
      "Status-Code: 204\n"
     ]
    }
   ],
   "source": [
    "#Content-Type defined as Application/json \n",
    "\n",
    "from requests_toolbelt import MultipartEncoder\n",
    "import requests as r\n",
    "\n",
    "\n",
    "boundary = '------123455'\n",
    "\n",
    "\n",
    "headers = {\n",
    "    'Content-Type': f'Application/json; boundary={boundary}',\n",
    "    'Authorization': token  \n",
    "}\n",
    "\n",
    "\n",
    "concept_id = \"08dd0489-90b0-7b99-92f7-6b58e5a60d00\" #use the right concept id here\n",
    "url = f'https://api.i14y.admin.ch/api/partner/v1/concepts/{concept_id}/codelist-entries/imports/json'\n",
    "\n",
    "file_path = 'CodeListEntries.json'\n",
    "\n",
    "\n",
    "with open(file_path, 'rb') as file:\n",
    "   \n",
    "    fields = {\n",
    "        'file': (file_path, file, 'text/json')  # The key 'file' matches the expected field name\n",
    "    }\n",
    "\n",
    "    # Create the MultipartEncoder object\n",
    "    form_data = MultipartEncoder(fields=fields, boundary=boundary)\n",
    "\n",
    "    # Update the headers to include the correct content-type set by MultipartEncoder\n",
    "    headers['Content-Type'] = form_data.content_type\n",
    "\n",
    "   \n",
    "    response = r.post(url, headers=headers, data=form_data, verify=False)\n",
    "\n",
    "\n",
    "print(f'Status-Code: {response.status_code}')"
   ]
  }
 ],
 "metadata": {
  "kernelspec": {
   "display_name": "Python 3.9.7 ('base')",
   "language": "python",
   "name": "python3"
  },
  "language_info": {
   "codemirror_mode": {
    "name": "ipython",
    "version": 3
   },
   "file_extension": ".py",
   "mimetype": "text/x-python",
   "name": "python",
   "nbconvert_exporter": "python",
   "pygments_lexer": "ipython3",
   "version": "3.9.7"
  },
  "orig_nbformat": 4,
  "vscode": {
   "interpreter": {
    "hash": "94b3a81435acc63bd930e86da5e2eb338d56cfc6e722049d2fbed8b8fefbb3de"
   }
  }
 },
 "nbformat": 4,
 "nbformat_minor": 2
}
